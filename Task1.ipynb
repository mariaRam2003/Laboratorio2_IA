{
 "cells": [
  {
   "cell_type": "markdown",
   "id": "54120f3b-a531-4412-90f5-d05d8be05e45",
   "metadata": {},
   "source": [
    "# Laboratorio 2\n",
    "\n",
    "------------\n",
    "\n",
    "- María Marta Ramirez  21342                                   \n",
    "- Gustavo Andrés Gonzalez 21438  \n",
    "- Diego Alberto Leiva 21752\n",
    "- Jose Pablo Orellana 21970\n",
    "\n",
    "Inteligencia Artificial                                                   \n",
    "Universidad del Valle de Guatemala\n",
    "\n",
    "------------"
   ]
  },
  {
   "cell_type": "markdown",
   "id": "b94613d2-917e-4c75-8a19-1d3c9f94f777",
   "metadata": {},
   "source": [
    "## Task 1 - Preguntas Teóricas\n",
    "#### Responga a cada una de las siguientes preguntas de forma clara y lo más completamente posible."
   ]
  },
  {
   "cell_type": "markdown",
   "id": "a147b7d7-fbbc-4fbe-b2aa-7de871329c47",
   "metadata": {},
   "source": [
    "#### 1. ¿Por qué el modelo de Naive Bayes se le consedera \"naive\"?"
   ]
  },
  {
   "cell_type": "markdown",
   "id": "0cfc8b09-028b-438e-81ec-b273d45a286a",
   "metadata": {},
   "source": [
    "- El modelo de Naive Bayes se considera \"naive\" debido a la suposición simplificadora de independencia condicional entre las características o bien las variables predictoras. Entonces se asume que todas las caracteríticas son independientes entre sí dadas las clases."
   ]
  },
  {
   "cell_type": "markdown",
   "id": "84282b32-1663-4b6e-a46b-355f284a24ca",
   "metadata": {},
   "source": [
    "#### 2. Explique la formulación matemática que se busca optimizar en Support Vector Machine, ¿Cómo funciona el truco del Kernel para este modelo?"
   ]
  },
  {
   "cell_type": "markdown",
   "id": "cebce1e3-a420-4348-8588-c9c84d47e66e",
   "metadata": {},
   "source": [
    "- Supongamos que se tienen datos que pertenecen a dos clases, y se quiere encontrar una línea (hiperplano) que los separe lo mejor posible.\n",
    "- Entonces en la fórmula a optimizar queremos encontrar la línea (w*x+b=0) que lo que hace es maximizar el margen entre las dos clases. El margen sería la distancia entre la línea y los puntos más cercanos de ambas clases, también queremos minimizar los errores de clasificación. Si un punto está del lado incorrecto de la línea, queremos eliminar eso.\n",
    "- La fórmula que queremos optimizar es: La mitad de la longitud del vector \"w\", al cuadrado, más \"C\" veces la suma de las penalizaciones por errores. Se quiere que la mitad de la longitud de \"w\" sea lo más pequeña posible para maximizar el margen entre las clases, y \"C\" controla cuánto penalizamos los errores.\n",
    "- *Truco del Kernel (Kernel Gaussiano o RBF* La función del Kernel K(xi, xj) es una medida de similitud entre dos muestras xi y xj en un espacio de caracteri´sticas más complejo. Se acumula como la exponencial negativa de la mitad de la distancia al cuadrado entre xi y xj dividida por dos veces la varianza. Esto nos permite trabajar en un espacio de características más complejo sin necesidad de conocer todas las coordenadas en ese espacio."
   ]
  },
  {
   "cell_type": "markdown",
   "id": "c4a7b15e-f1fc-4abe-8576-4118d3d991a7",
   "metadata": {},
   "source": [
    "#### Investigue sobre Random Forest y responda:\n",
    " - ##### ¿Qué tipo de ensemble learning es este modelo?\n",
    "   Un Random Forest es un modelo de ensemmble learning del tipo \"bagging\" (Bootstrap Aggregating). Bagging consiste en entrenar múltiples modelos en conjuntos de datos generados mediante muestreo con reemplazo, y luego combinar las predicciones de esos modelos.\n",
    " - ##### ¿Cuál es la idea general detras de Random Forest?\n",
    "    La idea Principal de Random Forest es construir múltiples árboles de decisión durante el entrenamiento y combinar sus predicciones. Cada árbol se entrena en un subconjunto aleatorio de las muestras y características, lo que introduce diversidad. Luego, durante la predicción, se promedian (en el caso de regresión) o votan (en el caso de clasificación) las predicciones de todos los árboles.\n",
    " - ##### ¿Por qué se busca baja correlación entre los árboles de Random Forest?\n",
    "    Se busca baja correlación entre los árboles de Random Forest para aumentar la diversidad y mejorar el rendimiento del ensemble. Si los árboles son altamente correlacionados, es más probable que cometan los mismos errores, lo que limitaría la capacidad del ensemble para mejorar la generalización. "
   ]
  },
  {
   "cell_type": "markdown",
   "id": "df935663-a709-4a06-ac5b-7be5475b73bf",
   "metadata": {},
   "source": [
    "## Referencias"
   ]
  },
  {
   "cell_type": "markdown",
   "id": "93a7e7c8-fe62-4727-a357-2f09b1f49f0c",
   "metadata": {},
   "source": [
    "- ##### Modelos Naive Bayes: Precisión e independencia. (2022, marzo 30). The Black Box Lab. https://theblackboxlab.com/2022/03/30/modelos-naive-bayes/\n",
    "- ##### Random forest, la gran técnica de Machine Learning. (s. f.). Inesdi. Recuperado 29 de enero de 2024, de https://www.inesdi.com/blog/random-forest-que-es/\n",
    "- ##### Saini, A. (2021, octubre 12). Guide on Support Vector Machine (SVM) Algorithm. Analytics Vidhya. https://www.analyticsvidhya.com/blog/2021/10/support-vector-machinessvm-a-complete-guide-for-beginners/"
   ]
  }
 ],
 "metadata": {
  "kernelspec": {
   "display_name": "Python 3 (ipykernel)",
   "language": "python",
   "name": "python3"
  },
  "language_info": {
   "codemirror_mode": {
    "name": "ipython",
    "version": 3
   },
   "file_extension": ".py",
   "mimetype": "text/x-python",
   "name": "python",
   "nbconvert_exporter": "python",
   "pygments_lexer": "ipython3",
   "version": "3.12.1"
  }
 },
 "nbformat": 4,
 "nbformat_minor": 5
}
