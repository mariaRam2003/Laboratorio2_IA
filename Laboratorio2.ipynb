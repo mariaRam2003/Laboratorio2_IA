{
 "cells": [
  {
   "cell_type": "markdown",
   "metadata": {},
   "source": [
    "# Laboratorio 2\n",
    "\n",
    "------------\n",
    "\n",
    "María Marta Ramirez Gil  21342                                   \n",
    "Gustavo Andrés Gonzalez Pineda 21438  \n",
    "Diego Leiva\n",
    "Jose Pablo Orellana\n",
    "\n",
    "Inteligencia Artificial                                                   \n",
    "Universidad del Valle de Guatemala\n",
    "\n",
    "------------"
   ]
  },
  {
   "cell_type": "code",
   "execution_count": null,
   "metadata": {},
   "outputs": [],
   "source": []
  }
 ],
 "metadata": {
  "language_info": {
   "name": "python"
  }
 },
 "nbformat": 4,
 "nbformat_minor": 2
}
