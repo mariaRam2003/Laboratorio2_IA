{
 "cells": [
  {
   "cell_type": "markdown",
   "metadata": {},
   "source": [
    "# Laboratorio 2\n",
    "\n",
    "------------\n",
    "\n",
    "- María Marta Ramirez Gil  21342                                   \n",
    "- Gustavo Andrés Gonzalez Pineda 21438  \n",
    "- Diego Alberto Leiva Pérez 21752\n",
    "- Jose Pablo Orellana Orellana 21970\n",
    "\n",
    "Inteligencia Artificial                                                   \n",
    "Universidad del Valle de Guatemala\n",
    "\n",
    "------------"
   ]
  },
  {
   "cell_type": "markdown",
   "metadata": {},
   "source": [
    "## Task 3"
   ]
  },
  {
   "cell_type": "markdown",
   "metadata": {},
   "source": [
    "Importacion de librerias necesarias"
   ]
  },
  {
   "cell_type": "code",
   "execution_count": 124,
   "metadata": {},
   "outputs": [],
   "source": [
    "import numpy as np\n",
    "import pandas as pd\n",
    "import matplotlib.pyplot as plt\n",
    "import seaborn as sns\n",
    "from sklearn.preprocessing import StandardScaler\n",
    "from sklearn.model_selection import train_test_split\n",
    "from sklearn.ensemble import RandomForestClassifier\n",
    "from sklearn.metrics import accuracy_score, precision_score, recall_score, f1_score, confusion_matrix\n",
    "from sklearn.decomposition import PCA\n",
    "from sklearn.svm import SVC"
   ]
  },
  {
   "cell_type": "markdown",
   "metadata": {},
   "source": [
    "Abrir y definir el dataset"
   ]
  },
  {
   "cell_type": "code",
   "execution_count": 125,
   "metadata": {},
   "outputs": [],
   "source": [
    "df = pd.read_csv(\"LolDataSet.csv\", sep=\",\")"
   ]
  },
  {
   "cell_type": "markdown",
   "metadata": {},
   "source": [
    "Vista del dataset"
   ]
  },
  {
   "cell_type": "code",
   "execution_count": 126,
   "metadata": {},
   "outputs": [
    {
     "data": {
      "text/html": [
       "<div>\n",
       "<style scoped>\n",
       "    .dataframe tbody tr th:only-of-type {\n",
       "        vertical-align: middle;\n",
       "    }\n",
       "\n",
       "    .dataframe tbody tr th {\n",
       "        vertical-align: top;\n",
       "    }\n",
       "\n",
       "    .dataframe thead th {\n",
       "        text-align: right;\n",
       "    }\n",
       "</style>\n",
       "<table border=\"1\" class=\"dataframe\">\n",
       "  <thead>\n",
       "    <tr style=\"text-align: right;\">\n",
       "      <th></th>\n",
       "      <th>gameId</th>\n",
       "      <th>blueWins</th>\n",
       "      <th>blueWardsPlaced</th>\n",
       "      <th>blueWardsDestroyed</th>\n",
       "      <th>blueFirstBlood</th>\n",
       "      <th>blueKills</th>\n",
       "      <th>blueDeaths</th>\n",
       "      <th>blueAssists</th>\n",
       "      <th>blueEliteMonsters</th>\n",
       "      <th>blueDragons</th>\n",
       "      <th>...</th>\n",
       "      <th>redTowersDestroyed</th>\n",
       "      <th>redTotalGold</th>\n",
       "      <th>redAvgLevel</th>\n",
       "      <th>redTotalExperience</th>\n",
       "      <th>redTotalMinionsKilled</th>\n",
       "      <th>redTotalJungleMinionsKilled</th>\n",
       "      <th>redGoldDiff</th>\n",
       "      <th>redExperienceDiff</th>\n",
       "      <th>redCSPerMin</th>\n",
       "      <th>redGoldPerMin</th>\n",
       "    </tr>\n",
       "  </thead>\n",
       "  <tbody>\n",
       "    <tr>\n",
       "      <th>0</th>\n",
       "      <td>4519157822</td>\n",
       "      <td>0</td>\n",
       "      <td>28</td>\n",
       "      <td>2</td>\n",
       "      <td>1</td>\n",
       "      <td>9</td>\n",
       "      <td>6</td>\n",
       "      <td>11</td>\n",
       "      <td>0</td>\n",
       "      <td>0</td>\n",
       "      <td>...</td>\n",
       "      <td>0</td>\n",
       "      <td>16567</td>\n",
       "      <td>6.8</td>\n",
       "      <td>17047</td>\n",
       "      <td>197</td>\n",
       "      <td>55</td>\n",
       "      <td>-643</td>\n",
       "      <td>8</td>\n",
       "      <td>19.7</td>\n",
       "      <td>1656.7</td>\n",
       "    </tr>\n",
       "    <tr>\n",
       "      <th>1</th>\n",
       "      <td>4523371949</td>\n",
       "      <td>0</td>\n",
       "      <td>12</td>\n",
       "      <td>1</td>\n",
       "      <td>0</td>\n",
       "      <td>5</td>\n",
       "      <td>5</td>\n",
       "      <td>5</td>\n",
       "      <td>0</td>\n",
       "      <td>0</td>\n",
       "      <td>...</td>\n",
       "      <td>1</td>\n",
       "      <td>17620</td>\n",
       "      <td>6.8</td>\n",
       "      <td>17438</td>\n",
       "      <td>240</td>\n",
       "      <td>52</td>\n",
       "      <td>2908</td>\n",
       "      <td>1173</td>\n",
       "      <td>24.0</td>\n",
       "      <td>1762.0</td>\n",
       "    </tr>\n",
       "    <tr>\n",
       "      <th>2</th>\n",
       "      <td>4521474530</td>\n",
       "      <td>0</td>\n",
       "      <td>15</td>\n",
       "      <td>0</td>\n",
       "      <td>0</td>\n",
       "      <td>7</td>\n",
       "      <td>11</td>\n",
       "      <td>4</td>\n",
       "      <td>1</td>\n",
       "      <td>1</td>\n",
       "      <td>...</td>\n",
       "      <td>0</td>\n",
       "      <td>17285</td>\n",
       "      <td>6.8</td>\n",
       "      <td>17254</td>\n",
       "      <td>203</td>\n",
       "      <td>28</td>\n",
       "      <td>1172</td>\n",
       "      <td>1033</td>\n",
       "      <td>20.3</td>\n",
       "      <td>1728.5</td>\n",
       "    </tr>\n",
       "    <tr>\n",
       "      <th>3</th>\n",
       "      <td>4524384067</td>\n",
       "      <td>0</td>\n",
       "      <td>43</td>\n",
       "      <td>1</td>\n",
       "      <td>0</td>\n",
       "      <td>4</td>\n",
       "      <td>5</td>\n",
       "      <td>5</td>\n",
       "      <td>1</td>\n",
       "      <td>0</td>\n",
       "      <td>...</td>\n",
       "      <td>0</td>\n",
       "      <td>16478</td>\n",
       "      <td>7.0</td>\n",
       "      <td>17961</td>\n",
       "      <td>235</td>\n",
       "      <td>47</td>\n",
       "      <td>1321</td>\n",
       "      <td>7</td>\n",
       "      <td>23.5</td>\n",
       "      <td>1647.8</td>\n",
       "    </tr>\n",
       "    <tr>\n",
       "      <th>4</th>\n",
       "      <td>4436033771</td>\n",
       "      <td>0</td>\n",
       "      <td>75</td>\n",
       "      <td>4</td>\n",
       "      <td>0</td>\n",
       "      <td>6</td>\n",
       "      <td>6</td>\n",
       "      <td>6</td>\n",
       "      <td>0</td>\n",
       "      <td>0</td>\n",
       "      <td>...</td>\n",
       "      <td>0</td>\n",
       "      <td>17404</td>\n",
       "      <td>7.0</td>\n",
       "      <td>18313</td>\n",
       "      <td>225</td>\n",
       "      <td>67</td>\n",
       "      <td>1004</td>\n",
       "      <td>-230</td>\n",
       "      <td>22.5</td>\n",
       "      <td>1740.4</td>\n",
       "    </tr>\n",
       "    <tr>\n",
       "      <th>5</th>\n",
       "      <td>4475365709</td>\n",
       "      <td>1</td>\n",
       "      <td>18</td>\n",
       "      <td>0</td>\n",
       "      <td>0</td>\n",
       "      <td>5</td>\n",
       "      <td>3</td>\n",
       "      <td>6</td>\n",
       "      <td>1</td>\n",
       "      <td>1</td>\n",
       "      <td>...</td>\n",
       "      <td>0</td>\n",
       "      <td>15201</td>\n",
       "      <td>7.0</td>\n",
       "      <td>18060</td>\n",
       "      <td>221</td>\n",
       "      <td>59</td>\n",
       "      <td>-698</td>\n",
       "      <td>-101</td>\n",
       "      <td>22.1</td>\n",
       "      <td>1520.1</td>\n",
       "    </tr>\n",
       "    <tr>\n",
       "      <th>6</th>\n",
       "      <td>4493010632</td>\n",
       "      <td>1</td>\n",
       "      <td>18</td>\n",
       "      <td>3</td>\n",
       "      <td>1</td>\n",
       "      <td>7</td>\n",
       "      <td>6</td>\n",
       "      <td>7</td>\n",
       "      <td>1</td>\n",
       "      <td>1</td>\n",
       "      <td>...</td>\n",
       "      <td>0</td>\n",
       "      <td>14463</td>\n",
       "      <td>6.4</td>\n",
       "      <td>15404</td>\n",
       "      <td>164</td>\n",
       "      <td>35</td>\n",
       "      <td>-2411</td>\n",
       "      <td>-1563</td>\n",
       "      <td>16.4</td>\n",
       "      <td>1446.3</td>\n",
       "    </tr>\n",
       "    <tr>\n",
       "      <th>7</th>\n",
       "      <td>4496759358</td>\n",
       "      <td>0</td>\n",
       "      <td>16</td>\n",
       "      <td>2</td>\n",
       "      <td>0</td>\n",
       "      <td>5</td>\n",
       "      <td>13</td>\n",
       "      <td>3</td>\n",
       "      <td>0</td>\n",
       "      <td>0</td>\n",
       "      <td>...</td>\n",
       "      <td>0</td>\n",
       "      <td>17920</td>\n",
       "      <td>6.6</td>\n",
       "      <td>16938</td>\n",
       "      <td>157</td>\n",
       "      <td>54</td>\n",
       "      <td>2615</td>\n",
       "      <td>800</td>\n",
       "      <td>15.7</td>\n",
       "      <td>1792.0</td>\n",
       "    </tr>\n",
       "    <tr>\n",
       "      <th>8</th>\n",
       "      <td>4443048030</td>\n",
       "      <td>0</td>\n",
       "      <td>16</td>\n",
       "      <td>3</td>\n",
       "      <td>0</td>\n",
       "      <td>7</td>\n",
       "      <td>7</td>\n",
       "      <td>8</td>\n",
       "      <td>0</td>\n",
       "      <td>0</td>\n",
       "      <td>...</td>\n",
       "      <td>0</td>\n",
       "      <td>18380</td>\n",
       "      <td>7.2</td>\n",
       "      <td>19298</td>\n",
       "      <td>240</td>\n",
       "      <td>53</td>\n",
       "      <td>1979</td>\n",
       "      <td>771</td>\n",
       "      <td>24.0</td>\n",
       "      <td>1838.0</td>\n",
       "    </tr>\n",
       "    <tr>\n",
       "      <th>9</th>\n",
       "      <td>4509433346</td>\n",
       "      <td>1</td>\n",
       "      <td>13</td>\n",
       "      <td>1</td>\n",
       "      <td>1</td>\n",
       "      <td>4</td>\n",
       "      <td>5</td>\n",
       "      <td>5</td>\n",
       "      <td>1</td>\n",
       "      <td>1</td>\n",
       "      <td>...</td>\n",
       "      <td>0</td>\n",
       "      <td>16605</td>\n",
       "      <td>6.8</td>\n",
       "      <td>18379</td>\n",
       "      <td>247</td>\n",
       "      <td>43</td>\n",
       "      <td>1548</td>\n",
       "      <td>1574</td>\n",
       "      <td>24.7</td>\n",
       "      <td>1660.5</td>\n",
       "    </tr>\n",
       "  </tbody>\n",
       "</table>\n",
       "<p>10 rows × 40 columns</p>\n",
       "</div>"
      ],
      "text/plain": [
       "       gameId  blueWins  blueWardsPlaced  blueWardsDestroyed  blueFirstBlood  \\\n",
       "0  4519157822         0               28                   2               1   \n",
       "1  4523371949         0               12                   1               0   \n",
       "2  4521474530         0               15                   0               0   \n",
       "3  4524384067         0               43                   1               0   \n",
       "4  4436033771         0               75                   4               0   \n",
       "5  4475365709         1               18                   0               0   \n",
       "6  4493010632         1               18                   3               1   \n",
       "7  4496759358         0               16                   2               0   \n",
       "8  4443048030         0               16                   3               0   \n",
       "9  4509433346         1               13                   1               1   \n",
       "\n",
       "   blueKills  blueDeaths  blueAssists  blueEliteMonsters  blueDragons  ...  \\\n",
       "0          9           6           11                  0            0  ...   \n",
       "1          5           5            5                  0            0  ...   \n",
       "2          7          11            4                  1            1  ...   \n",
       "3          4           5            5                  1            0  ...   \n",
       "4          6           6            6                  0            0  ...   \n",
       "5          5           3            6                  1            1  ...   \n",
       "6          7           6            7                  1            1  ...   \n",
       "7          5          13            3                  0            0  ...   \n",
       "8          7           7            8                  0            0  ...   \n",
       "9          4           5            5                  1            1  ...   \n",
       "\n",
       "   redTowersDestroyed  redTotalGold  redAvgLevel  redTotalExperience  \\\n",
       "0                   0         16567          6.8               17047   \n",
       "1                   1         17620          6.8               17438   \n",
       "2                   0         17285          6.8               17254   \n",
       "3                   0         16478          7.0               17961   \n",
       "4                   0         17404          7.0               18313   \n",
       "5                   0         15201          7.0               18060   \n",
       "6                   0         14463          6.4               15404   \n",
       "7                   0         17920          6.6               16938   \n",
       "8                   0         18380          7.2               19298   \n",
       "9                   0         16605          6.8               18379   \n",
       "\n",
       "   redTotalMinionsKilled  redTotalJungleMinionsKilled  redGoldDiff  \\\n",
       "0                    197                           55         -643   \n",
       "1                    240                           52         2908   \n",
       "2                    203                           28         1172   \n",
       "3                    235                           47         1321   \n",
       "4                    225                           67         1004   \n",
       "5                    221                           59         -698   \n",
       "6                    164                           35        -2411   \n",
       "7                    157                           54         2615   \n",
       "8                    240                           53         1979   \n",
       "9                    247                           43         1548   \n",
       "\n",
       "   redExperienceDiff  redCSPerMin  redGoldPerMin  \n",
       "0                  8         19.7         1656.7  \n",
       "1               1173         24.0         1762.0  \n",
       "2               1033         20.3         1728.5  \n",
       "3                  7         23.5         1647.8  \n",
       "4               -230         22.5         1740.4  \n",
       "5               -101         22.1         1520.1  \n",
       "6              -1563         16.4         1446.3  \n",
       "7                800         15.7         1792.0  \n",
       "8                771         24.0         1838.0  \n",
       "9               1574         24.7         1660.5  \n",
       "\n",
       "[10 rows x 40 columns]"
      ]
     },
     "execution_count": 126,
     "metadata": {},
     "output_type": "execute_result"
    }
   ],
   "source": [
    "df.head(10)"
   ]
  },
  {
   "cell_type": "markdown",
   "metadata": {},
   "source": [
    "Informacion del dataset"
   ]
  },
  {
   "cell_type": "code",
   "execution_count": 127,
   "metadata": {},
   "outputs": [
    {
     "name": "stdout",
     "output_type": "stream",
     "text": [
      "gameId                            int64\n",
      "blueWins                          int64\n",
      "blueWardsPlaced                   int64\n",
      "blueWardsDestroyed                int64\n",
      "blueFirstBlood                    int64\n",
      "blueKills                         int64\n",
      "blueDeaths                        int64\n",
      "blueAssists                       int64\n",
      "blueEliteMonsters                 int64\n",
      "blueDragons                       int64\n",
      "blueHeralds                       int64\n",
      "blueTowersDestroyed               int64\n",
      "blueTotalGold                     int64\n",
      "blueAvgLevel                    float64\n",
      "blueTotalExperience               int64\n",
      "blueTotalMinionsKilled            int64\n",
      "blueTotalJungleMinionsKilled      int64\n",
      "blueGoldDiff                      int64\n",
      "blueExperienceDiff                int64\n",
      "blueCSPerMin                    float64\n",
      "blueGoldPerMin                  float64\n",
      "redWardsPlaced                    int64\n",
      "redWardsDestroyed                 int64\n",
      "redFirstBlood                     int64\n",
      "redKills                          int64\n",
      "redDeaths                         int64\n",
      "redAssists                        int64\n",
      "redEliteMonsters                  int64\n",
      "redDragons                        int64\n",
      "redHeralds                        int64\n",
      "redTowersDestroyed                int64\n",
      "redTotalGold                      int64\n",
      "redAvgLevel                     float64\n",
      "redTotalExperience                int64\n",
      "redTotalMinionsKilled             int64\n",
      "redTotalJungleMinionsKilled       int64\n",
      "redGoldDiff                       int64\n",
      "redExperienceDiff                 int64\n",
      "redCSPerMin                     float64\n",
      "redGoldPerMin                   float64\n",
      "dtype: object\n"
     ]
    }
   ],
   "source": [
    "tipos_de_datos = df.dtypes\n",
    "print(tipos_de_datos)\n"
   ]
  },
  {
   "cell_type": "code",
   "execution_count": 128,
   "metadata": {},
   "outputs": [
    {
     "data": {
      "text/plain": [
       "0"
      ]
     },
     "execution_count": 128,
     "metadata": {},
     "output_type": "execute_result"
    }
   ],
   "source": [
    "df.duplicated().sum()"
   ]
  },
  {
   "cell_type": "code",
   "execution_count": 129,
   "metadata": {},
   "outputs": [
    {
     "name": "stdout",
     "output_type": "stream",
     "text": [
      "<class 'pandas.core.frame.DataFrame'>\n",
      "RangeIndex: 9879 entries, 0 to 9878\n",
      "Data columns (total 40 columns):\n",
      " #   Column                        Non-Null Count  Dtype  \n",
      "---  ------                        --------------  -----  \n",
      " 0   gameId                        9879 non-null   int64  \n",
      " 1   blueWins                      9879 non-null   int64  \n",
      " 2   blueWardsPlaced               9879 non-null   int64  \n",
      " 3   blueWardsDestroyed            9879 non-null   int64  \n",
      " 4   blueFirstBlood                9879 non-null   int64  \n",
      " 5   blueKills                     9879 non-null   int64  \n",
      " 6   blueDeaths                    9879 non-null   int64  \n",
      " 7   blueAssists                   9879 non-null   int64  \n",
      " 8   blueEliteMonsters             9879 non-null   int64  \n",
      " 9   blueDragons                   9879 non-null   int64  \n",
      " 10  blueHeralds                   9879 non-null   int64  \n",
      " 11  blueTowersDestroyed           9879 non-null   int64  \n",
      " 12  blueTotalGold                 9879 non-null   int64  \n",
      " 13  blueAvgLevel                  9879 non-null   float64\n",
      " 14  blueTotalExperience           9879 non-null   int64  \n",
      " 15  blueTotalMinionsKilled        9879 non-null   int64  \n",
      " 16  blueTotalJungleMinionsKilled  9879 non-null   int64  \n",
      " 17  blueGoldDiff                  9879 non-null   int64  \n",
      " 18  blueExperienceDiff            9879 non-null   int64  \n",
      " 19  blueCSPerMin                  9879 non-null   float64\n",
      " 20  blueGoldPerMin                9879 non-null   float64\n",
      " 21  redWardsPlaced                9879 non-null   int64  \n",
      " 22  redWardsDestroyed             9879 non-null   int64  \n",
      " 23  redFirstBlood                 9879 non-null   int64  \n",
      " 24  redKills                      9879 non-null   int64  \n",
      " 25  redDeaths                     9879 non-null   int64  \n",
      " 26  redAssists                    9879 non-null   int64  \n",
      " 27  redEliteMonsters              9879 non-null   int64  \n",
      " 28  redDragons                    9879 non-null   int64  \n",
      " 29  redHeralds                    9879 non-null   int64  \n",
      " 30  redTowersDestroyed            9879 non-null   int64  \n",
      " 31  redTotalGold                  9879 non-null   int64  \n",
      " 32  redAvgLevel                   9879 non-null   float64\n",
      " 33  redTotalExperience            9879 non-null   int64  \n",
      " 34  redTotalMinionsKilled         9879 non-null   int64  \n",
      " 35  redTotalJungleMinionsKilled   9879 non-null   int64  \n",
      " 36  redGoldDiff                   9879 non-null   int64  \n",
      " 37  redExperienceDiff             9879 non-null   int64  \n",
      " 38  redCSPerMin                   9879 non-null   float64\n",
      " 39  redGoldPerMin                 9879 non-null   float64\n",
      "dtypes: float64(6), int64(34)\n",
      "memory usage: 3.0 MB\n"
     ]
    }
   ],
   "source": [
    "df.info()"
   ]
  },
  {
   "cell_type": "markdown",
   "metadata": {},
   "source": [
    "Encoding no necesario ya que la variable objetivo `blueWins` ya esta codificada como 1 para vistoria y 0 para derrota. Y no se necesecita para las demás variables."
   ]
  },
  {
   "cell_type": "markdown",
   "metadata": {},
   "source": [
    "Revisión de balanceo del dataset"
   ]
  },
  {
   "cell_type": "code",
   "execution_count": 130,
   "metadata": {},
   "outputs": [
    {
     "name": "stdout",
     "output_type": "stream",
     "text": [
      "blueWins\n",
      "0    4949\n",
      "1    4930\n",
      "Name: count, dtype: int64\n"
     ]
    },
    {
     "data": {
      "image/png": "[encoded data removed]",
      "text/plain": [
       "<Figure size 640x480 with 1 Axes>"
      ]
     },
     "metadata": {},
     "output_type": "display_data"
    },
    {
     "name": "stdout",
     "output_type": "stream",
     "text": [
      "blueWins\n",
      "0    50.096164\n",
      "1    49.903836\n",
      "Name: proportion, dtype: float64\n"
     ]
    }
   ],
   "source": [
    "class_distribution = df['blueWins'].value_counts()\n",
    "print(class_distribution)\n",
    "\n",
    "df['blueWins'].value_counts().plot(kind='bar', color=['blue', 'orange'])\n",
    "plt.title('Distribución de Clases')\n",
    "plt.xlabel('Clase')\n",
    "plt.ylabel('Frecuencia')\n",
    "plt.show()\n",
    "\n",
    "class_percentage = df['blueWins'].value_counts(normalize=True) * 100\n",
    "print(class_percentage)"
   ]
  },
  {
   "cell_type": "markdown",
   "metadata": {},
   "source": [
    "Debido al modelo que se usara, las variables se ven bastante equilibradas y no se considera estrictamente necesario realizar un balanceo."
   ]
  },
  {
   "cell_type": "markdown",
   "metadata": {},
   "source": [
    "Escalar variables"
   ]
  },
  {
   "cell_type": "code",
   "execution_count": 131,
   "metadata": {},
   "outputs": [],
   "source": [
    "variables_toScale = ['blueWardsPlaced', 'blueWardsDestroyed', 'blueKills', 'blueDeaths', 'blueAssists',\n",
    "                     'blueTotalGold', 'blueAvgLevel', 'blueTotalExperience', 'blueTotalMinionsKilled',\n",
    "                     'blueTotalJungleMinionsKilled', 'blueGoldDiff', 'blueExperienceDiff', 'blueCSPerMin',\n",
    "                     'blueGoldPerMin', 'redWardsPlaced', 'redWardsDestroyed', 'redKills', 'redDeaths',\n",
    "                     'redAssists', 'redTotalGold', 'redAvgLevel', 'redTotalExperience', 'redTotalMinionsKilled',\n",
    "                     'redTotalJungleMinionsKilled', 'redGoldDiff', 'redExperienceDiff', 'redCSPerMin',\n",
    "                     'redGoldPerMin']\n",
    "\n",
    "scaler = StandardScaler()\n",
    "\n",
    "# Escalar las variables numericas\n",
    "df[variables_toScale] = scaler.fit_transform(df[variables_toScale])"
   ]
  },
  {
   "cell_type": "code",
   "execution_count": 132,
   "metadata": {},
   "outputs": [
    {
     "data": {
      "text/html": [
       "<div>\n",
       "<style scoped>\n",
       "    .dataframe tbody tr th:only-of-type {\n",
       "        vertical-align: middle;\n",
       "    }\n",
       "\n",
       "    .dataframe tbody tr th {\n",
       "        vertical-align: top;\n",
       "    }\n",
       "\n",
       "    .dataframe thead th {\n",
       "        text-align: right;\n",
       "    }\n",
       "</style>\n",
       "<table border=\"1\" class=\"dataframe\">\n",
       "  <thead>\n",
       "    <tr style=\"text-align: right;\">\n",
       "      <th></th>\n",
       "      <th>gameId</th>\n",
       "      <th>blueWins</th>\n",
       "      <th>blueWardsPlaced</th>\n",
       "      <th>blueWardsDestroyed</th>\n",
       "      <th>blueFirstBlood</th>\n",
       "      <th>blueKills</th>\n",
       "      <th>blueDeaths</th>\n",
       "      <th>blueAssists</th>\n",
       "      <th>blueEliteMonsters</th>\n",
       "      <th>blueDragons</th>\n",
       "      <th>...</th>\n",
       "      <th>redTowersDestroyed</th>\n",
       "      <th>redTotalGold</th>\n",
       "      <th>redAvgLevel</th>\n",
       "      <th>redTotalExperience</th>\n",
       "      <th>redTotalMinionsKilled</th>\n",
       "      <th>redTotalJungleMinionsKilled</th>\n",
       "      <th>redGoldDiff</th>\n",
       "      <th>redExperienceDiff</th>\n",
       "      <th>redCSPerMin</th>\n",
       "      <th>redGoldPerMin</th>\n",
       "    </tr>\n",
       "  </thead>\n",
       "  <tbody>\n",
       "    <tr>\n",
       "      <th>0</th>\n",
       "      <td>4519157822</td>\n",
       "      <td>0</td>\n",
       "      <td>0.316996</td>\n",
       "      <td>-0.379275</td>\n",
       "      <td>1</td>\n",
       "      <td>0.935301</td>\n",
       "      <td>-0.046926</td>\n",
       "      <td>1.071495</td>\n",
       "      <td>0</td>\n",
       "      <td>0</td>\n",
       "      <td>...</td>\n",
       "      <td>0</td>\n",
       "      <td>0.052293</td>\n",
       "      <td>-0.410475</td>\n",
       "      <td>-0.763215</td>\n",
       "      <td>-0.928741</td>\n",
       "      <td>0.367685</td>\n",
       "      <td>-0.256228</td>\n",
       "      <td>-0.013342</td>\n",
       "      <td>-0.928741</td>\n",
       "      <td>0.052293</td>\n",
       "    </tr>\n",
       "    <tr>\n",
       "      <th>1</th>\n",
       "      <td>4523371949</td>\n",
       "      <td>0</td>\n",
       "      <td>-0.570992</td>\n",
       "      <td>-0.839069</td>\n",
       "      <td>0</td>\n",
       "      <td>-0.393216</td>\n",
       "      <td>-0.387796</td>\n",
       "      <td>-0.404768</td>\n",
       "      <td>0</td>\n",
       "      <td>0</td>\n",
       "      <td>...</td>\n",
       "      <td>1</td>\n",
       "      <td>0.758619</td>\n",
       "      <td>-0.410475</td>\n",
       "      <td>-0.436980</td>\n",
       "      <td>1.033784</td>\n",
       "      <td>0.068504</td>\n",
       "      <td>1.191254</td>\n",
       "      <td>0.593342</td>\n",
       "      <td>1.033784</td>\n",
       "      <td>0.758619</td>\n",
       "    </tr>\n",
       "    <tr>\n",
       "      <th>2</th>\n",
       "      <td>4521474530</td>\n",
       "      <td>0</td>\n",
       "      <td>-0.404494</td>\n",
       "      <td>-1.298863</td>\n",
       "      <td>0</td>\n",
       "      <td>0.271042</td>\n",
       "      <td>1.657424</td>\n",
       "      <td>-0.650812</td>\n",
       "      <td>1</td>\n",
       "      <td>1</td>\n",
       "      <td>...</td>\n",
       "      <td>0</td>\n",
       "      <td>0.533909</td>\n",
       "      <td>-0.410475</td>\n",
       "      <td>-0.590502</td>\n",
       "      <td>-0.654900</td>\n",
       "      <td>-2.324944</td>\n",
       "      <td>0.483614</td>\n",
       "      <td>0.520436</td>\n",
       "      <td>-0.654900</td>\n",
       "      <td>0.533909</td>\n",
       "    </tr>\n",
       "    <tr>\n",
       "      <th>3</th>\n",
       "      <td>4524384067</td>\n",
       "      <td>0</td>\n",
       "      <td>1.149484</td>\n",
       "      <td>-0.839069</td>\n",
       "      <td>0</td>\n",
       "      <td>-0.725346</td>\n",
       "      <td>-0.387796</td>\n",
       "      <td>-0.404768</td>\n",
       "      <td>1</td>\n",
       "      <td>0</td>\n",
       "      <td>...</td>\n",
       "      <td>0</td>\n",
       "      <td>-0.007406</td>\n",
       "      <td>0.244627</td>\n",
       "      <td>-0.000609</td>\n",
       "      <td>0.805583</td>\n",
       "      <td>-0.430131</td>\n",
       "      <td>0.544350</td>\n",
       "      <td>-0.013863</td>\n",
       "      <td>0.805583</td>\n",
       "      <td>-0.007406</td>\n",
       "    </tr>\n",
       "    <tr>\n",
       "      <th>4</th>\n",
       "      <td>4436033771</td>\n",
       "      <td>0</td>\n",
       "      <td>2.925460</td>\n",
       "      <td>0.540312</td>\n",
       "      <td>0</td>\n",
       "      <td>-0.061087</td>\n",
       "      <td>-0.046926</td>\n",
       "      <td>-0.158724</td>\n",
       "      <td>0</td>\n",
       "      <td>0</td>\n",
       "      <td>...</td>\n",
       "      <td>0</td>\n",
       "      <td>0.613731</td>\n",
       "      <td>0.244627</td>\n",
       "      <td>0.293085</td>\n",
       "      <td>0.349182</td>\n",
       "      <td>1.564408</td>\n",
       "      <td>0.415133</td>\n",
       "      <td>-0.137283</td>\n",
       "      <td>0.349182</td>\n",
       "      <td>0.613731</td>\n",
       "    </tr>\n",
       "    <tr>\n",
       "      <th>5</th>\n",
       "      <td>4475365709</td>\n",
       "      <td>1</td>\n",
       "      <td>-0.237997</td>\n",
       "      <td>-1.298863</td>\n",
       "      <td>0</td>\n",
       "      <td>-0.393216</td>\n",
       "      <td>-1.069536</td>\n",
       "      <td>-0.158724</td>\n",
       "      <td>1</td>\n",
       "      <td>1</td>\n",
       "      <td>...</td>\n",
       "      <td>0</td>\n",
       "      <td>-0.863986</td>\n",
       "      <td>0.244627</td>\n",
       "      <td>0.081992</td>\n",
       "      <td>0.166622</td>\n",
       "      <td>0.766592</td>\n",
       "      <td>-0.278648</td>\n",
       "      <td>-0.070105</td>\n",
       "      <td>0.166622</td>\n",
       "      <td>-0.863986</td>\n",
       "    </tr>\n",
       "    <tr>\n",
       "      <th>6</th>\n",
       "      <td>4493010632</td>\n",
       "      <td>1</td>\n",
       "      <td>-0.237997</td>\n",
       "      <td>0.080519</td>\n",
       "      <td>1</td>\n",
       "      <td>0.271042</td>\n",
       "      <td>-0.046926</td>\n",
       "      <td>0.087320</td>\n",
       "      <td>1</td>\n",
       "      <td>1</td>\n",
       "      <td>...</td>\n",
       "      <td>0</td>\n",
       "      <td>-1.359018</td>\n",
       "      <td>-1.720679</td>\n",
       "      <td>-2.134068</td>\n",
       "      <td>-2.434864</td>\n",
       "      <td>-1.626855</td>\n",
       "      <td>-0.976912</td>\n",
       "      <td>-0.831455</td>\n",
       "      <td>-2.434864</td>\n",
       "      <td>-1.359018</td>\n",
       "    </tr>\n",
       "    <tr>\n",
       "      <th>7</th>\n",
       "      <td>4496759358</td>\n",
       "      <td>0</td>\n",
       "      <td>-0.348995</td>\n",
       "      <td>-0.379275</td>\n",
       "      <td>0</td>\n",
       "      <td>-0.393216</td>\n",
       "      <td>2.339164</td>\n",
       "      <td>-0.896856</td>\n",
       "      <td>0</td>\n",
       "      <td>0</td>\n",
       "      <td>...</td>\n",
       "      <td>0</td>\n",
       "      <td>0.959851</td>\n",
       "      <td>-1.065577</td>\n",
       "      <td>-0.854160</td>\n",
       "      <td>-2.754344</td>\n",
       "      <td>0.267958</td>\n",
       "      <td>1.071819</td>\n",
       "      <td>0.399099</td>\n",
       "      <td>-2.754344</td>\n",
       "      <td>0.959851</td>\n",
       "    </tr>\n",
       "    <tr>\n",
       "      <th>8</th>\n",
       "      <td>4443048030</td>\n",
       "      <td>0</td>\n",
       "      <td>-0.348995</td>\n",
       "      <td>0.080519</td>\n",
       "      <td>0</td>\n",
       "      <td>0.271042</td>\n",
       "      <td>0.293944</td>\n",
       "      <td>0.333364</td>\n",
       "      <td>0</td>\n",
       "      <td>0</td>\n",
       "      <td>...</td>\n",
       "      <td>0</td>\n",
       "      <td>1.268408</td>\n",
       "      <td>0.899729</td>\n",
       "      <td>1.114930</td>\n",
       "      <td>1.033784</td>\n",
       "      <td>0.168231</td>\n",
       "      <td>0.812569</td>\n",
       "      <td>0.383997</td>\n",
       "      <td>1.033784</td>\n",
       "      <td>1.268408</td>\n",
       "    </tr>\n",
       "    <tr>\n",
       "      <th>9</th>\n",
       "      <td>4509433346</td>\n",
       "      <td>1</td>\n",
       "      <td>-0.515493</td>\n",
       "      <td>-0.839069</td>\n",
       "      <td>1</td>\n",
       "      <td>-0.725346</td>\n",
       "      <td>-0.387796</td>\n",
       "      <td>-0.404768</td>\n",
       "      <td>1</td>\n",
       "      <td>1</td>\n",
       "      <td>...</td>\n",
       "      <td>0</td>\n",
       "      <td>0.077782</td>\n",
       "      <td>-0.410475</td>\n",
       "      <td>0.348153</td>\n",
       "      <td>1.353264</td>\n",
       "      <td>-0.829039</td>\n",
       "      <td>0.636882</td>\n",
       "      <td>0.802167</td>\n",
       "      <td>1.353264</td>\n",
       "      <td>0.077782</td>\n",
       "    </tr>\n",
       "  </tbody>\n",
       "</table>\n",
       "<p>10 rows × 40 columns</p>\n",
       "</div>"
      ],
      "text/plain": [
       "       gameId  blueWins  blueWardsPlaced  blueWardsDestroyed  blueFirstBlood  \\\n",
       "0  4519157822         0         0.316996           -0.379275               1   \n",
       "1  4523371949         0        -0.570992           -0.839069               0   \n",
       "2  4521474530         0        -0.404494           -1.298863               0   \n",
       "3  4524384067         0         1.149484           -0.839069               0   \n",
       "4  4436033771         0         2.925460            0.540312               0   \n",
       "5  4475365709         1        -0.237997           -1.298863               0   \n",
       "6  4493010632         1        -0.237997            0.080519               1   \n",
       "7  4496759358         0        -0.348995           -0.379275               0   \n",
       "8  4443048030         0        -0.348995            0.080519               0   \n",
       "9  4509433346         1        -0.515493           -0.839069               1   \n",
       "\n",
       "   blueKills  blueDeaths  blueAssists  blueEliteMonsters  blueDragons  ...  \\\n",
       "0   0.935301   -0.046926     1.071495                  0            0  ...   \n",
       "1  -0.393216   -0.387796    -0.404768                  0            0  ...   \n",
       "2   0.271042    1.657424    -0.650812                  1            1  ...   \n",
       "3  -0.725346   -0.387796    -0.404768                  1            0  ...   \n",
       "4  -0.061087   -0.046926    -0.158724                  0            0  ...   \n",
       "5  -0.393216   -1.069536    -0.158724                  1            1  ...   \n",
       "6   0.271042   -0.046926     0.087320                  1            1  ...   \n",
       "7  -0.393216    2.339164    -0.896856                  0            0  ...   \n",
       "8   0.271042    0.293944     0.333364                  0            0  ...   \n",
       "9  -0.725346   -0.387796    -0.404768                  1            1  ...   \n",
       "\n",
       "   redTowersDestroyed  redTotalGold  redAvgLevel  redTotalExperience  \\\n",
       "0                   0      0.052293    -0.410475           -0.763215   \n",
       "1                   1      0.758619    -0.410475           -0.436980   \n",
       "2                   0      0.533909    -0.410475           -0.590502   \n",
       "3                   0     -0.007406     0.244627           -0.000609   \n",
       "4                   0      0.613731     0.244627            0.293085   \n",
       "5                   0     -0.863986     0.244627            0.081992   \n",
       "6                   0     -1.359018    -1.720679           -2.134068   \n",
       "7                   0      0.959851    -1.065577           -0.854160   \n",
       "8                   0      1.268408     0.899729            1.114930   \n",
       "9                   0      0.077782    -0.410475            0.348153   \n",
       "\n",
       "   redTotalMinionsKilled  redTotalJungleMinionsKilled  redGoldDiff  \\\n",
       "0              -0.928741                     0.367685    -0.256228   \n",
       "1               1.033784                     0.068504     1.191254   \n",
       "2              -0.654900                    -2.324944     0.483614   \n",
       "3               0.805583                    -0.430131     0.544350   \n",
       "4               0.349182                     1.564408     0.415133   \n",
       "5               0.166622                     0.766592    -0.278648   \n",
       "6              -2.434864                    -1.626855    -0.976912   \n",
       "7              -2.754344                     0.267958     1.071819   \n",
       "8               1.033784                     0.168231     0.812569   \n",
       "9               1.353264                    -0.829039     0.636882   \n",
       "\n",
       "   redExperienceDiff  redCSPerMin  redGoldPerMin  \n",
       "0          -0.013342    -0.928741       0.052293  \n",
       "1           0.593342     1.033784       0.758619  \n",
       "2           0.520436    -0.654900       0.533909  \n",
       "3          -0.013863     0.805583      -0.007406  \n",
       "4          -0.137283     0.349182       0.613731  \n",
       "5          -0.070105     0.166622      -0.863986  \n",
       "6          -0.831455    -2.434864      -1.359018  \n",
       "7           0.399099    -2.754344       0.959851  \n",
       "8           0.383997     1.033784       1.268408  \n",
       "9           0.802167     1.353264       0.077782  \n",
       "\n",
       "[10 rows x 40 columns]"
      ]
     },
     "execution_count": 132,
     "metadata": {},
     "output_type": "execute_result"
    }
   ],
   "source": [
    "df.head(10)"
   ]
  },
  {
   "cell_type": "markdown",
   "metadata": {},
   "source": [
    "Modelo para clasificación - RandomForest"
   ]
  },
  {
   "cell_type": "code",
   "execution_count": 133,
   "metadata": {},
   "outputs": [
    {
     "name": "stdout",
     "output_type": "stream",
     "text": [
      "Precisión del modelo de Random Forest: 0.7206477732793523\n"
     ]
    },
    {
     "data": {
      "image/png": "[encoded data removed]",
      "text/plain": [
       "<Figure size 800x600 with 1 Axes>"
      ]
     },
     "metadata": {},
     "output_type": "display_data"
    },
    {
     "name": "stdout",
     "output_type": "stream",
     "text": [
      "Precision: 0.7284974093264248\n",
      "Recall: 0.7079556898288016\n",
      "F1-score: 0.7180796731358529\n"
     ]
    }
   ],
   "source": [
    "# Dividir los datos en características y variable objetivo\n",
    "X = df.drop('blueWins', axis=1)  # Características\n",
    "y = df['blueWins']  # Variable objetivo\n",
    "\n",
    "# Dividir los datos en conjuntos de entrenamiento y prueba\n",
    "X_train, X_test, y_train, y_test = train_test_split(X, y, test_size=0.2, random_state=42)\n",
    "\n",
    "# Importar el clasificador Random Forest\n",
    "rf_classifier = RandomForestClassifier(n_estimators=100, random_state=42)\n",
    "\n",
    "# Ajustar el modelo a los datos de entrenamiento\n",
    "rf_classifier.fit(X_train, y_train)\n",
    "\n",
    "# Predecir con los datos de prueba y evaluar el rendimiento\n",
    "y_pred = rf_classifier.predict(X_test)\n",
    "accuracy = accuracy_score(y_test, y_pred)\n",
    "print(\"Precisión del modelo de Random Forest:\", accuracy)\n",
    "\n",
    "# Calcular la precision, el recall y el F1-score\n",
    "precision = precision_score(y_test, y_pred)\n",
    "recall = recall_score(y_test, y_pred)\n",
    "f1 = f1_score(y_test, y_pred)\n",
    "\n",
    "# Calcular la matriz de confusion\n",
    "conf_matrix = confusion_matrix(y_test, y_pred)\n",
    "\n",
    "# Visualizacion de la matriz\n",
    "plt.figure(figsize=(8, 6))\n",
    "sns.heatmap(conf_matrix, annot=True, cmap='Blues', fmt='d', cbar=False)\n",
    "\n",
    "# Mostrar la grafica\n",
    "plt.xlabel('Valores Predecidos')\n",
    "plt.ylabel('Valores Verdaderos')\n",
    "plt.title('Matriz de Confusión')\n",
    "\n",
    "plt.show()\n",
    "\n",
    "print(\"Precision:\", precision)\n",
    "print(\"Recall:\", recall)\n",
    "print(\"F1-score:\", f1)"
   ]
  },
  {
   "cell_type": "markdown",
   "metadata": {},
   "source": [
    "#### Justificación de la elección de la métrica de desempeño principal:\n",
    "Ya que se usó el modelo de RandomForestClassifer debido a que se tiene una tarea de clasificación binaria (si el equipo azul gana o no). Para visualizar el desempeño de este modelo, una métrica de matriz de confusion es una de las formas más comunes de representarlo. Ya que muestra explícitamente la distribucion de las predicciones del modelo en comparación con las etiquetas verdaderas y ademas proporciona una visión detallada del rendimiento del modelo.\n"
   ]
  },
  {
   "cell_type": "markdown",
   "metadata": {},
   "source": [
    "## Task 3.1"
   ]
  },
  {
   "cell_type": "markdown",
   "metadata": {},
   "source": [
    "### Sin usar librerias"
   ]
  },
  {
   "cell_type": "code",
   "execution_count": 139,
   "metadata": {},
   "outputs": [
    {
     "name": "stdout",
     "output_type": "stream",
     "text": [
      "Precisión del modelo SVM: 0.62\n"
     ]
    },
    {
     "data": {
      "image/png": "[encoded data removed]",
      "text/plain": [
       "<Figure size 640x480 with 1 Axes>"
      ]
     },
     "metadata": {},
     "output_type": "display_data"
    }
   ],
   "source": [
    "# Dividir el conjunto de datos en conjuntos de entrenamiento, validación y prueba\n",
    "def train_val_test_split(X, y, train_ratio=0.8, val_ratio=0.1, test_ratio=0.1):\n",
    "    num_samples = X.shape[0]\n",
    "    \n",
    "    # Tomar una muestra aleatoria de los datos\n",
    "    sample_size = min(num_samples, 500)  # Tomamos una muestra de hasta 500 muestras\n",
    "    sample_indices = np.random.choice(num_samples, sample_size, replace=False)\n",
    "    X_sample = X[sample_indices]\n",
    "    y_sample = y[sample_indices]\n",
    "    \n",
    "    num_train = int(train_ratio * sample_size)\n",
    "    num_val = int(val_ratio * sample_size)\n",
    "    num_test = int(test_ratio * sample_size)\n",
    "    \n",
    "    # Permutar los indices para dividir aleatoriamente los datos.\n",
    "    indices = np.random.permutation(sample_size)\n",
    "    train_indices = indices[:num_train]\n",
    "    val_indices = indices[num_train:num_train + num_val]\n",
    "    test_indices = indices[-num_test:]\n",
    "    \n",
    "    X_train, y_train = X_sample[train_indices], y_sample[train_indices]\n",
    "    X_val, y_val = X_sample[val_indices], y_sample[val_indices]\n",
    "    X_test, y_test = X_sample[test_indices], y_sample[test_indices]\n",
    "    \n",
    "    return X_train, X_val, X_test, y_train, y_val, y_test\n",
    "\n",
    "class LinearSVM:\n",
    "    def __init__(self, learning_rate=0.01, max_iter=1000, C=1):\n",
    "        self.learning_rate = learning_rate\n",
    "        self.max_iter = max_iter\n",
    "        self.C = C\n",
    "\n",
    "    def fit(self, X, y):\n",
    "        n_samples, n_features = X.shape\n",
    "        self.weights = np.zeros(n_features)\n",
    "        self.bias = 0\n",
    "\n",
    "        for _ in range(self.max_iter):\n",
    "            for idx, x_i in enumerate(X):\n",
    "                condition = y[idx] * (np.dot(x_i, self.weights) - self.bias) >= 1\n",
    "                if condition:\n",
    "                    self.weights -= self.learning_rate * (2 * self.C * self.weights)\n",
    "                else:\n",
    "                    self.weights -= self.learning_rate * (2 * self.C * self.weights - np.dot(x_i, y[idx]))\n",
    "                    self.bias -= self.learning_rate * y[idx]\n",
    "\n",
    "    def predict(self, X):\n",
    "        linear_output = np.dot(X, self.weights) - self.bias\n",
    "        return np.sign(linear_output)\n",
    "    \n",
    "    def decision_function(self, X):\n",
    "        return np.dot(X, self.weights) - self.bias\n",
    "\n",
    "\n",
    "# Entrenamiento del modelo SVM\n",
    "def train_svm(X_train, y_train):\n",
    "    svm_classifier = LinearSVM()\n",
    "    svm_classifier.fit(X_train, y_train)\n",
    "    return svm_classifier\n",
    "\n",
    "# Evaluacion del modelo SVM\n",
    "def evaluate_svm(svm_classifier, X_test, y_test):\n",
    "    # Realizar predicciones en el conjunto de prueba\n",
    "    predictions = svm_classifier.predict(X_test)\n",
    "    # Calcular la precisión manualmente\n",
    "    accuracy = np.mean(predictions == y_test)\n",
    "    return accuracy\n",
    "\n",
    "# Graficacion \n",
    "def plot_groups(X, y, svm_classifier):\n",
    "    # Reducir la dimensionalidad de los datos a 2 dimensiones utilizando el PCA\n",
    "    pca = PCA(n_components=2)\n",
    "    X_pca = pca.fit_transform(X)\n",
    "    \n",
    "    # Dibujar los puntos de datos\n",
    "    plt.scatter(X_pca[:, 0], X_pca[:, 1], c=y, cmap='coolwarm', edgecolors='k', s=40)\n",
    "    \n",
    "    # Dibujar las fronteras de decision\n",
    "    ax = plt.gca()\n",
    "    xlim = ax.get_xlim()\n",
    "    ylim = ax.get_ylim()\n",
    "  \n",
    "    xx = np.linspace(xlim[0], xlim[1], 30)\n",
    "    yy = np.linspace(ylim[0], ylim[1], 30)\n",
    "    YY, XX = np.meshgrid(yy, xx)\n",
    "    xy = np.vstack([XX.ravel(), YY.ravel()]).T\n",
    "    Z = svm_classifier.decision_function(xy).reshape(XX.shape)\n",
    "    \n",
    "    ax.contour(XX, YY, Z, colors='k', levels=[-1, 0, 1], alpha=0.5, linestyles=['--', '-', '--'])\n",
    "\n",
    "    plt.xlabel('Principal Component 1')\n",
    "    plt.ylabel('Principal Component 2')\n",
    "    plt.title('Support Vector Machines Decision Boundaries')\n",
    "    \n",
    "    # Mostrar el gráfico\n",
    "    plt.show()\n",
    "\n",
    "# Utilizar los datos del DataFrame de LOL\n",
    "# Suponiendo que df ya está definido con las variables \"redKills\" y \"blueWins\"\n",
    "X = df[['redKills', 'blueWins']].values  \n",
    "y = df['blueWins'].values  # Se selecciona la columna 'blueWins' como variable objetivo.\n",
    "\n",
    "# Dividir los datos en conjuntos de entrenamiento, validación y prueba\n",
    "X_train, X_val, X_test, y_train, y_val, y_test = train_val_test_split(X, y)\n",
    "\n",
    "# Entrenar el modelo SVM\n",
    "svm_classifier = train_svm(X_train, y_train)\n",
    "\n",
    "# Evaluar el modelo final SVM\n",
    "accuracy = evaluate_svm(svm_classifier, X_test, y_test)\n",
    "print(\"Precisión del modelo SVM:\", accuracy)\n",
    "\n",
    "# Graficar los grupos encontrados\n",
    "plot_groups(X_train, y_train, svm_classifier)"
   ]
  },
  {
   "cell_type": "markdown",
   "metadata": {},
   "source": [
    "#### Consideraciones Extra\n",
    "- Se tuvo que reducir la dimensionalidad de las variables a 2 dimensiones utilizando Analisis de Componentes Principales (PCA), para presentar una mejor grafica dentro del plano cartesiano.\n",
    "- Se tuvo que elgir una muestra aleatoria del dataset, ya que escoger todos los datos seria muy cargado para el modelo."
   ]
  },
  {
   "cell_type": "markdown",
   "metadata": {},
   "source": [
    "### Usando Librerias"
   ]
  },
  {
   "cell_type": "code",
   "execution_count": 140,
   "metadata": {},
   "outputs": [
    {
     "name": "stdout",
     "output_type": "stream",
     "text": [
      "Precisión del modelo SVM: 1.0\n"
     ]
    },
    {
     "data": {
      "image/png": "[encoded data removed]",
      "text/plain": [
       "<Figure size 640x480 with 1 Axes>"
      ]
     },
     "metadata": {},
     "output_type": "display_data"
    }
   ],
   "source": [
    "# Dividir el conjunto de datos en conjuntos de entrenamiento, validación y prueba\n",
    "def train_val_test_split(X, y, train_ratio=0.8, val_ratio=0.1, test_ratio=0.1):\n",
    "    X_train, X_test, y_train, y_test = train_test_split(X, y, test_size=test_ratio, random_state=42)\n",
    "    X_train, X_val, y_train, y_val = train_test_split(X_train, y_train, test_size=val_ratio/(train_ratio+val_ratio), random_state=42)\n",
    "    return X_train, X_val, X_test, y_train, y_val, y_test\n",
    "\n",
    "# Graficacion \n",
    "def plot_groups(X, y, svm_classifier):\n",
    "    # Reducir la dimensionalidad de los datos a 2 dimensiones utilizando el PCA\n",
    "    pca = PCA(n_components=2)\n",
    "    X_pca = pca.fit_transform(X)\n",
    "    \n",
    "    # Entrenar el clasificador SVM\n",
    "    svm_classifier.fit(X_pca, y)\n",
    "    \n",
    "    # Dibujar los puntos de datos\n",
    "    plt.scatter(X_pca[:, 0], X_pca[:, 1], c=y, cmap='coolwarm', edgecolors='k', s=40)\n",
    "    \n",
    "    # Dibujar las fronteras de decision\n",
    "    ax = plt.gca()\n",
    "    xlim = ax.get_xlim()\n",
    "    ylim = ax.get_ylim()\n",
    "  \n",
    "    xx = np.linspace(xlim[0], xlim[1], 30)\n",
    "    yy = np.linspace(ylim[0], ylim[1], 30)\n",
    "    YY, XX = np.meshgrid(yy, xx)\n",
    "    xy = np.vstack([XX.ravel(), YY.ravel()]).T\n",
    "    Z = svm_classifier.decision_function(xy).reshape(XX.shape)\n",
    "    \n",
    "    ax.contour(XX, YY, Z, colors='k', levels=[-1, 0, 1], alpha=0.5, linestyles=['--', '-', '--'])\n",
    "\n",
    "    plt.xlabel('Principal Component 1')\n",
    "    plt.ylabel('Principal Component 2')\n",
    "    plt.title('Support Vector Machines Decision Boundaries')\n",
    "    \n",
    "    # Mostrar el gráfico\n",
    "    plt.show()\n",
    "\n",
    "# Crear un clasificador SVM lineal\n",
    "svm_classifier = SVC(kernel='linear', C=1)\n",
    "\n",
    "\n",
    "# Entrenar el clasificador SVM\n",
    "svm_classifier.fit(X_train, y_train)\n",
    "\n",
    "# Calcular la precisión del modelo en los datos de prueba\n",
    "accuracy = svm_classifier.score(X_test, y_test)\n",
    "\n",
    "# Imprimir la precisión del modelo\n",
    "print(\"Precisión del modelo SVM:\", accuracy)\n",
    "\n",
    "# Utilizar los datos del DataFrame de LOL\n",
    "X = df[['redKills', 'blueWins']].values  \n",
    "y = df['blueWins'].values  # Se selecciona la columna 'blueWins' como variable objetivo.\n",
    "\n",
    "# Dividir los datos en conjuntos de entrenamiento, validación y prueba\n",
    "X_train, X_val, X_test, y_train, y_val, y_test = train_val_test_split(X, y)\n",
    "\n",
    "# Graficar los grupos encontrados\n",
    "plot_groups(X_train, y_train, svm_classifier)"
   ]
  },
  {
   "cell_type": "markdown",
   "metadata": {},
   "source": [
    "#### Cual implementacion fue mejor?\n",
    "Consideramos que ambas implementaciones revelan ventajas significativas en términos de eficiencia y precisión para el enfoque que utiliza la biblioteca `sklearn`. En lo que respecta a la velocidad de ejecución, la implementación con la librería proporcionó resultados más rápidos en comparación con el algoritmo sin librerías, lo que sugiere una optimización y eficacia naturales al emplear herramientas especializadas. En cuanto a la precisión, los resultados obtenidos fueron igualmente reveladores. Mientras que la implementación sin librerías alcanzó una precisión máxima de 0.62, la versión basada en sklearn logró un puntaje perfecto de 1.0, indicando una capacidad de clasificación superior y una mejor generalización del modelo a datos nuevos. En conclusión, consideramos que la implementación utilizando la biblioteca sklearn supera en términos de eficiencia precisión y desempeño, lo que respalda su idoneidad para aplicaciones prácticas y análisis rigurosos en entornos de aprendizaje automático."
   ]
  },
  {
   "cell_type": "markdown",
   "metadata": {},
   "source": [
    "## Task 3.2 Árboles de Decisión: Clasificación de Partidas de League of Legends"
   ]
  },
  {
   "cell_type": "markdown",
   "metadata": {},
   "source": [
    "### Modelo desde 0"
   ]
  },
  {
   "cell_type": "markdown",
   "metadata": {},
   "source": [
    "**Carga y split de la data para training, testing y validation**"
   ]
  },
  {
   "cell_type": "code",
   "execution_count": 141,
   "metadata": {},
   "outputs": [],
   "source": [
    "# Cargar el dataset\n",
    "df = pd.read_csv(\"LolDataSet.csv\")\n",
    "\n",
    "# Escalar las características numéricas\n",
    "variables_toScale = ['blueWardsPlaced', 'blueWardsDestroyed', 'blueKills', 'blueDeaths', 'blueAssists',\n",
    "                     'blueTotalGold', 'blueAvgLevel', 'blueTotalExperience', 'blueTotalMinionsKilled',\n",
    "                     'blueTotalJungleMinionsKilled', 'blueGoldDiff', 'blueExperienceDiff', 'blueCSPerMin',\n",
    "                     'blueGoldPerMin', 'redWardsPlaced', 'redWardsDestroyed', 'redKills', 'redDeaths',\n",
    "                     'redAssists', 'redTotalGold', 'redAvgLevel', 'redTotalExperience', 'redTotalMinionsKilled',\n",
    "                     'redTotalJungleMinionsKilled', 'redGoldDiff', 'redExperienceDiff', 'redCSPerMin',\n",
    "                     'redGoldPerMin']\n",
    "\n",
    "scaler = StandardScaler()\n",
    "df[variables_toScale] = scaler.fit_transform(df[variables_toScale])\n",
    "\n",
    "# Dividir los datos en características y variable objetivo\n",
    "X = df.drop('blueWins', axis=1)\n",
    "y = df['blueWins']\n",
    "\n",
    "# Split de la data en 80% training, 10% validacion, 10% testing\n",
    "X_train_temp, X_test, y_train_temp, y_test = train_test_split(X, y, test_size=0.2, random_state=42)\n",
    "X_train, X_val, y_train, y_val = train_test_split(X_train_temp, y_train_temp, test_size=0.1111, random_state=42) "
   ]
  },
  {
   "cell_type": "markdown",
   "metadata": {},
   "source": [
    "**Gini Index**"
   ]
  },
  {
   "cell_type": "code",
   "execution_count": 142,
   "metadata": {},
   "outputs": [],
   "source": [
    "def gini_index(groups, classes):\n",
    "    # Contar todas las muestras en el punto de división\n",
    "    n_instances = float(sum([len(group) for group in groups]))\n",
    "    \n",
    "    # Sumar la impureza ponderada de cada grupo\n",
    "    gini = 0.0\n",
    "    for group in groups:\n",
    "        size = float(len(group))\n",
    "        # Evitar la división por cero\n",
    "        if size == 0:\n",
    "            continue\n",
    "        score = 0.0\n",
    "        # Puntuación del grupo basada en las puntuaciones de cada clase\n",
    "        for class_val in classes:\n",
    "            p = [row[-1] for row in group].count(class_val) / size\n",
    "            score += p * p\n",
    "        # Ponderar el índice Gini del grupo por su tamaño relativo\n",
    "        gini += (1.0 - score) * (size / n_instances)\n",
    "    return gini"
   ]
  },
  {
   "cell_type": "markdown",
   "metadata": {},
   "source": [
    "**Creación de Splits**"
   ]
  },
  {
   "cell_type": "code",
   "execution_count": 143,
   "metadata": {},
   "outputs": [],
   "source": [
    "def test_split(index, value, dataset):\n",
    "    left, right = list(), list()\n",
    "    for row in dataset:\n",
    "        if row[index] <= value:\n",
    "            left.append(row)\n",
    "        else:\n",
    "            right.append(row)\n",
    "    return left, right"
   ]
  },
  {
   "cell_type": "markdown",
   "metadata": {},
   "source": [
    "**Evaluacion de splits, para obtener el mejor**"
   ]
  },
  {
   "cell_type": "code",
   "execution_count": 144,
   "metadata": {},
   "outputs": [],
   "source": [
    "feature_importance = {i: 0 for i in range(len(X.columns))}\n",
    "\n",
    "def get_split(dataset):\n",
    "    class_values = list(set(row[-1] for row in dataset))\n",
    "    b_index, b_value, b_score, b_groups = 999, 999, 999, None\n",
    "    for index in range(len(dataset[0]) - 1):\n",
    "        for row in dataset:\n",
    "            groups = test_split(index, row[index], dataset)  # Dividir el dataset\n",
    "            gini = gini_index(groups, class_values)  # Calcular el índice Gini para el split\n",
    "            if gini < b_score:\n",
    "                b_index, b_value, b_score, b_groups = index, row[index], gini, groups\n",
    "                feature_importance[index] += 1  # Incrementar la importancia de la característica\n",
    "    return {'index': b_index, 'value': b_value, 'groups': b_groups}"
   ]
  },
  {
   "cell_type": "markdown",
   "metadata": {},
   "source": [
    "**Construcción del Árbol**"
   ]
  },
  {
   "cell_type": "code",
   "execution_count": 146,
   "metadata": {},
   "outputs": [],
   "source": [
    "def to_terminal(group):\n",
    "    outcomes = [row[-1] for row in group]\n",
    "    return max(set(outcomes), key=outcomes.count)\n",
    "\n",
    "def split(node, max_depth, min_size, depth):\n",
    "    left, right = node['groups']\n",
    "    del(node['groups'])\n",
    "    \n",
    "    # Verificar si no hay divisiones\n",
    "    if not left or not right:\n",
    "        node['left'] = node['right'] = to_terminal(left + right)\n",
    "        return\n",
    "    \n",
    "    # Verificar la profundidad máxima\n",
    "    if depth >= max_depth:\n",
    "        node['left'], node['right'] = to_terminal(left), to_terminal(right)\n",
    "        return\n",
    "    \n",
    "    # Procesar hijo izquierdo\n",
    "    if len(left) <= min_size:\n",
    "        node['left'] = to_terminal(left)\n",
    "    else:\n",
    "        node['left'] = get_split(left)\n",
    "        split(node['left'], max_depth, min_size, depth+1)\n",
    "    \n",
    "    # Procesar hijo derecho\n",
    "    if len(right) <= min_size:\n",
    "        node['right'] = to_terminal(right)\n",
    "    else:\n",
    "        node['right'] = get_split(right)\n",
    "        split(node['right'], max_depth, min_size, depth+1)\n",
    "\n",
    "def build_tree(train, max_depth, min_size):\n",
    "    root = get_split(train)\n",
    "    split(root, max_depth, min_size, 1)\n",
    "    return root"
   ]
  },
  {
   "cell_type": "markdown",
   "metadata": {},
   "source": [
    "**Predicciones**"
   ]
  },
  {
   "cell_type": "code",
   "execution_count": 147,
   "metadata": {},
   "outputs": [],
   "source": [
    "def predict(node, row):\n",
    "    if row[node['index']] < node['value']:\n",
    "        if isinstance(node['left'], dict):\n",
    "            return predict(node['left'], row)\n",
    "        else:\n",
    "            return node['left']\n",
    "    else:\n",
    "        if isinstance(node['right'], dict):\n",
    "            return predict(node['right'], row)\n",
    "        else:\n",
    "            return node['right']"
   ]
  },
  {
   "cell_type": "markdown",
   "metadata": {},
   "source": [
    "**Training del modelo**"
   ]
  },
  {
   "cell_type": "code",
   "execution_count": 166,
   "metadata": {},
   "outputs": [],
   "source": [
    "# Convertir DataFrame a lista de listas\n",
    "train_set = X_train.join(y_train).values.tolist()\n",
    "val_set = X_val.join(y_val).values.tolist()\n",
    "test_set = X_test.join(y_test).values.tolist()\n",
    "\n",
    "# Parámetros para el árbol de decisión\n",
    "max_depth = 5  \n",
    "min_size = 2  \n",
    "\n",
    "tree = build_tree(train_set, max_depth, min_size)\n",
    "\n",
    "# Función para hacer predicciones con el árbol de decisión en un conjunto de datos\n",
    "def decision_tree_predictions(tree, dataset):\n",
    "    predictions = [predict(tree, row) for row in dataset]\n",
    "    return predictions\n",
    "\n",
    "# Hacer predicciones en el conjunto de prueba\n",
    "predictions = decision_tree_predictions(tree, test_set)"
   ]
  },
  {
   "cell_type": "markdown",
   "metadata": {},
   "source": [
    "**Referencia de Codigo**\n",
    "https://machinelearningmastery.com/implement-decision-tree-algorithm-scratch-python/"
   ]
  },
  {
   "cell_type": "markdown",
   "metadata": {},
   "source": [
    "**Evaluacion del modelo**"
   ]
  },
  {
   "cell_type": "code",
   "execution_count": 167,
   "metadata": {},
   "outputs": [
    {
     "name": "stdout",
     "output_type": "stream",
     "text": [
      "F1 Score: 0.7126213592233009\n",
      "Accuracy: 0.7004048582995951\n"
     ]
    }
   ],
   "source": [
    "from sklearn.metrics import f1_score\n",
    "\n",
    "# Extraer las clases reales del conjunto de prueba\n",
    "actual = [row[-1] for row in test_set]\n",
    "\n",
    "# Calcular F1 Score\n",
    "f1 = f1_score(actual, predictions)\n",
    "\n",
    "print(f'F1 Score: {f1}')\n",
    "\n",
    "# Calcular el accuracy\n",
    "correct_predictions = sum([actual[i] == predictions[i] for i in range(len(actual))])\n",
    "accuracy = correct_predictions / len(actual)\n",
    "print(f'Accuracy: {accuracy}')"
   ]
  },
  {
   "cell_type": "markdown",
   "metadata": {},
   "source": [
    "**Graficos**"
   ]
  },
  {
   "cell_type": "code",
   "execution_count": 171,
   "metadata": {},
   "outputs": [
    {
     "data": {
      "image/png": "[encoded data removed]",
      "text/plain": [
       "<Figure size 800x600 with 1 Axes>"
      ]
     },
     "metadata": {},
     "output_type": "display_data"
    }
   ],
   "source": [
    "from sklearn.metrics import confusion_matrix\n",
    "# Generar la matriz de confusión\n",
    "conf_matrix = confusion_matrix(actual, predictions)\n",
    "\n",
    "# Visualizar la matriz de confusión\n",
    "plt.figure(figsize=(8, 6))\n",
    "sns.heatmap(conf_matrix, annot=True, cmap='Blues', fmt='d', cbar=False, xticklabels=['Red Wins', 'Blue Wins'], yticklabels=['Red Wins', 'Blue Wins'])\n",
    "plt.xlabel('Valores Predecidos')\n",
    "plt.ylabel('Valores Verdaderos')\n",
    "plt.title('Matriz de Confusión - Árbol de Decisión desde 0')\n",
    "plt.show()"
   ]
  },
  {
   "cell_type": "markdown",
   "metadata": {},
   "source": [
    "**Top 5 Features del modelo**"
   ]
  },
  {
   "cell_type": "code",
   "execution_count": 170,
   "metadata": {},
   "outputs": [
    {
     "name": "stdout",
     "output_type": "stream",
     "text": [
      "Top 5 features: ['gameId', 'blueGoldDiff', 'blueTotalGold', 'blueTotalExperience', 'blueWardsPlaced']\n"
     ]
    }
   ],
   "source": [
    "# Asegúrate de que tienes una lista de los nombres de las columnas\n",
    "feature_names = list(X.columns)\n",
    "\n",
    "# Analizar la importancia de las características\n",
    "sorted_features = sorted(feature_importance.items(), key=lambda x: x[1], reverse=True)\n",
    "top_5_features_indices = [index for index, importance in sorted_features[:5]]\n",
    "\n",
    "# Mapear los índices a los nombres de las características\n",
    "top_5_feature_names = [feature_names[index] for index in top_5_features_indices]\n",
    "\n",
    "print(\"Top 5 features:\", top_5_feature_names)"
   ]
  },
  {
   "cell_type": "markdown",
   "metadata": {},
   "source": [
    "Los Top 5 features son:\n",
    "- 'gameId' (id de la partida)\n",
    "- 'blueGoldDiff' (diferencia de oro entre el equipo azul y rojo)\n",
    "- 'blueTotalGold' (oro total del equipo azul)\n",
    "- 'blueTotalExperience' (experiencia total del equipo azul)\n",
    "- 'blueWardsPlaced' (cantidad de wards colocados en la partida)\n",
    "\n",
    "Estos features fueron encontrados gracias al gini index. El cual va a evaluar la pureza de los grupos de muestras. Mientras mas puros sean los datos, los resultados del modelo seran mejores.\n",
    "En este caso los 5 features listados anteriormente son los que mas contribuyeron a la reduccion de impurezas de las muestras.\n",
    "Esto hace sentido si analizamos que implican estas características dentro del juego. Generalmente si un equipo tiene mayor cantidad de oro, exp, que el otro, quiere decir que llevan la ventaja en la partida. Y en cuanto a los wards, se sabe que son items que pueden balancear a favor una partida."
   ]
  },
  {
   "cell_type": "markdown",
   "metadata": {},
   "source": [
    "**Overfitting**"
   ]
  },
  {
   "cell_type": "markdown",
   "metadata": {},
   "source": [
    "Al evaluar los resultados, un F1 Score de 0.7 no es indicador de presencia de overfitting, viendo que no hay una gran diferencia entre el rendimiento con el split de training y testing, esta claro que  no hay un sobreajuste al dataset dado. \n",
    "Si en caso hubiera, lo que se podría realizar es un pruning del árbol, limitando la profundidad del arbol, o establecer otro tipo de tamaño mínimo de muestras."
   ]
  },
  {
   "cell_type": "markdown",
   "metadata": {},
   "source": [
    "**Tuning**"
   ]
  },
  {
   "cell_type": "code",
   "execution_count": 164,
   "metadata": {},
   "outputs": [
    {
     "name": "stdout",
     "output_type": "stream",
     "text": [
      "Mejor profundidad (max_depth): 5\n",
      "Mejor número mínimo de muestras para dividir (min_samples_split): 2\n",
      "Mejor precisión: 0.72165991902834\n"
     ]
    }
   ],
   "source": [
    "from sklearn.tree import DecisionTreeClassifier\n",
    "from sklearn.metrics import accuracy_score\n",
    "\n",
    "# Esta funcion busca los mejores valores para obtener la mejor metrica posible haciendo un grid search\n",
    "def find_best_tree_parameters(X_train, y_train, X_val, y_val, depth_range, min_samples_split_range):\n",
    "    best_accuracy = 0\n",
    "    best_depth = 0\n",
    "    best_min_samples_split = 0\n",
    "    \n",
    "    # Iterar sobre todas las combinaciones posibles de depth y min_samples_split\n",
    "    for depth in depth_range:\n",
    "        for min_samples in min_samples_split_range:\n",
    "            # Entrenar el modelo de árbol de decisión\n",
    "            tree_model = DecisionTreeClassifier(random_state=42, max_depth=depth, min_samples_split=min_samples)\n",
    "            tree_model.fit(X_train, y_train)\n",
    "            \n",
    "            # Predecir y calcular la precisión\n",
    "            y_val_pred_tree = tree_model.predict(X_val)\n",
    "            current_accuracy = accuracy_score(y_val, y_val_pred_tree)\n",
    "            \n",
    "            # Actualizar los mejores parámetros si la precisión actual es la mejor\n",
    "            if current_accuracy > best_accuracy:\n",
    "                best_accuracy = current_accuracy\n",
    "                best_depth = depth\n",
    "                best_min_samples_split = min_samples\n",
    "    \n",
    "    return best_depth, best_min_samples_split, best_accuracy\n",
    "\n",
    "# Rangos de parámetros a probar\n",
    "depth_range = range(1, 11)  # Por ejemplo, de 1 a 10\n",
    "min_samples_split_range = range(2, 21)  # Por ejemplo, de 2 a 20\n",
    "\n",
    "best_depth, best_min_samples_split, best_accuracy = find_best_tree_parameters(\n",
    "    X_train, y_train, X_val, y_val, depth_range, min_samples_split_range)\n",
    "\n",
    "print(f'Mejor profundidad (max_depth): {best_depth}')\n",
    "print(f'Mejor número mínimo de muestras para dividir (min_samples_split): {best_min_samples_split}')\n",
    "print(f'Mejor precisión: {best_accuracy}')\n"
   ]
  },
  {
   "cell_type": "markdown",
   "metadata": {},
   "source": [
    "Se le realizo tuning a 2 variables importantes del modelo, la profundidad del árbol 'max_depth', y la vantidad mínima de muestras para dividir 'min_sizet'. Minentras mas profundo sea el árbol, la cantidad de tiempo que toma en entrenarse y realizar las predicciones incrementa significativamente. Lo mismo va para el numero de muestras.\n",
    "Con la función de arriba se logro encontrar la mejor profundidad y el numero de muestras para dividir optimo."
   ]
  },
  {
   "cell_type": "markdown",
   "metadata": {},
   "source": [
    "### Modelo con librerias"
   ]
  },
  {
   "cell_type": "code",
   "execution_count": 165,
   "metadata": {},
   "outputs": [
    {
     "name": "stdout",
     "output_type": "stream",
     "text": [
      "Árbol de Decisión:\n",
      "Accuracy: 0.7217\n",
      "\n",
      "Classification Report:\n",
      "              precision    recall  f1-score   support\n",
      "\n",
      "           0       0.72      0.71      0.71       478\n",
      "           1       0.73      0.74      0.73       510\n",
      "\n",
      "    accuracy                           0.72       988\n",
      "   macro avg       0.72      0.72      0.72       988\n",
      "weighted avg       0.72      0.72      0.72       988\n",
      "\n"
     ]
    },
    {
     "data": {
      "image/png": "[encoded data removed]",
      "text/plain": [
       "<Figure size 800x600 with 1 Axes>"
      ]
     },
     "metadata": {},
     "output_type": "display_data"
    },
    {
     "data": {
      "image/png": "[encoded data removed]",
      "text/plain": [
       "<Figure size 1500x600 with 1 Axes>"
      ]
     },
     "metadata": {},
     "output_type": "display_data"
    }
   ],
   "source": [
    "# Importar librerías\n",
    "from sklearn.tree import DecisionTreeClassifier, plot_tree\n",
    "from sklearn.ensemble import RandomForestClassifier\n",
    "from sklearn.metrics import accuracy_score, confusion_matrix, classification_report\n",
    "\n",
    "# Modelo de Árbol de Decisión\n",
    "tree_model = DecisionTreeClassifier(random_state=42, max_depth=5, min_samples_split=2)\n",
    "tree_model.fit(X_train, y_train)\n",
    "\n",
    "# Predicciones en el conjunto de validación\n",
    "y_val_pred_tree = tree_model.predict(X_val)\n",
    "\n",
    "# Desempeño del modelo de Árbol de Decisión \n",
    "accuracy_tree = accuracy_score(y_val, y_val_pred_tree)\n",
    "conf_matrix_tree = confusion_matrix(y_val, y_val_pred_tree)\n",
    "classification_rep_tree = classification_report(y_val, y_val_pred_tree)\n",
    "\n",
    "print(\"Árbol de Decisión:\")\n",
    "print(f'Accuracy: {accuracy_tree:.4f}')\n",
    "print('\\nClassification Report:')\n",
    "print(classification_rep_tree)\n",
    "\n",
    "# Matriz de confusión para el Árbol de Decisión\n",
    "plt.figure(figsize=(8, 6))\n",
    "sns.heatmap(conf_matrix_tree, annot=True, cmap='Blues', fmt='d', cbar=False, xticklabels=['Red Wins', 'Blue Wins'], yticklabels=['Red Wins', 'Blue Wins'])\n",
    "plt.xlabel('Valores Predecidos')\n",
    "plt.ylabel('Valores Verdaderos')\n",
    "plt.title('Matriz de Confusión - Árbol de Decisión')\n",
    "plt.show()\n",
    "\n",
    "# Visualizar el árbol de decisión\n",
    "plt.figure(figsize=(15, 6))\n",
    "plot_tree(tree_model, feature_names=X.columns, class_names=['Red Wins', 'Blue Wins'], filled=True, rounded=True)\n",
    "plt.show()"
   ]
  },
  {
   "cell_type": "markdown",
   "metadata": {},
   "source": [
    "#### Cual implementacion fue mejor?\n",
    "\n",
    "Definitivamente, la mejor implementación fue la que utiliza librerías. Esto se debe principalmente a la gran diferencia de tiempo que tomó en ejecutarse, ya que el modelo creado desde cero tardó más de 14 minutos en completarse, mientras que la implementación con librerías apenas tomó 1 segundo, incluyendo la visualización del árbol y el graficado de su matriz. Además, la implementación con librerías tuvo una precisión más alta (aunque no por mucho) que el modelo desde cero. Esto demuestra que está mucho más optimizado."
   ]
  },
  {
   "cell_type": "markdown",
   "metadata": {},
   "source": [
    "## Task 3.3 - Comparación de Modelos"
   ]
  },
  {
   "cell_type": "markdown",
   "metadata": {},
   "source": [
    "**¿Cómo difirieron los grupos creados por ambos modelos?**\n",
    "- Los grupos creados por la Máquina de Vectores de Soporte (SVM) son prácticamente puros, ya que la precisión fue de 1.0, lo que indica una clasificación perfecta en el conjunto de datos utilizado. Por otro lado, el árbol de decisión mostró una cantidad significativa de falsos positivos y verdaderos negativos en sus predicciones, lo que indica una separación menos nítida entre las clases.\n",
    "\n",
    "\n",
    "**¿Cuál de los modelos fue más rápido?**\n",
    "- El modelo más rápido fue la Máquina de Vectores de Soporte (SVM) con librerías, tardando apenas 0.1 segundos. Sin embargo, cabe destacar que para este caso, la muestra fue de apenas 500 observaciones. Mientras tanto, el árbol de decisión, aunque utilizó el conjunto de datos completo, tardó 1 segundo en entrenarse, lo que es relativamente rápido pero aún más lento en comparación con la SVM en una muestra más pequeña.\n",
    "\n",
    "\n",
    "**¿Qué modelo usarían?**\n",
    "- Optaríamos por el modelo de árbol de decisión, ya que ofrece facilidad de comprensión en cuanto a cómo toma las decisiones. Además, demostró ser eficiente en términos de tiempo al entrenarse rápidamente con el conjunto completo de datos. Su puntuación F1 de 0.7 sugiere que el modelo no sufre de sobreajuste significativo, lo que es una ventaja importante. Por otro lado, aunque el modelo de Máquina de Vectores de Soporte (SVM) resulta muy atractivo debido a su alta precisión, es probable que requiera más tiempo para entrenarse si se utiliza el conjunto de datos completo. Este factor es crucial al considerar la elección del modelo. Es importante mencionar que, a pesar de los ajustes realizados, el árbol de decisión no superó una puntuación F1 de 0.7, lo que indica un límite en su capacidad para mejorar con la configuración actual."
   ]
  }
 ],
 "metadata": {
  "kernelspec": {
   "display_name": "Python 3 (ipykernel)",
   "language": "python",
   "name": "python3"
  },
  "language_info": {
   "codemirror_mode": {
    "name": "ipython",
    "version": 3
   },
   "file_extension": ".py",
   "mimetype": "text/x-python",
   "name": "python",
   "nbconvert_exporter": "python",
   "pygments_lexer": "ipython3",
   "version": "3.11.6"
  }
 },
 "nbformat": 4,
 "nbformat_minor": 4
}
