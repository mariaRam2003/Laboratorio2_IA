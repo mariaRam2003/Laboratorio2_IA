{
 "cells": [
  {
   "cell_type": "markdown",
   "metadata": {},
   "source": [
    "## Lectura y limpieza de datos"
   ]
  },
  {
   "cell_type": "code",
   "execution_count": 9,
   "metadata": {},
   "outputs": [
    {
     "name": "stdout",
     "output_type": "stream",
     "text": [
      "Palabras en spam:  3148\n",
      "Palabras en ham:  7950\n"
     ]
    }
   ],
   "source": [
    "data = {\"spam\": {},\n",
    "        \"ham\": {}}\n",
    "FILENAME = 'entrenamiento_1.txt'\n",
    "ALPHA = 10 \n",
    "\n",
    "def sanitize(string : str):\n",
    "    \"\"\"Sanitizez a string, removes symbols and converts to uppercase\n",
    "\n",
    "    Args:\n",
    "        string (str): word to be sanitized\n",
    "\n",
    "    Returns:\n",
    "        str: sanitized word\n",
    "    \"\"\"\n",
    "    return string.strip('!.,;?:()-').upper()\n",
    "\n",
    "\n",
    "def add_words(category : str, words : [str]):\n",
    "    \"\"\"grabs a list of words, sanitizes them and adds them to the data dictionary\n",
    "\n",
    "    Args:\n",
    "        category (str): either 'spam' or 'ham'\n",
    "        words (str]): list of words to be added\n",
    "    \"\"\"\n",
    "    for word in words:\n",
    "        word = sanitize(word)\n",
    "        if word:\n",
    "            if word in data[category]:\n",
    "                data[category][word] += 1\n",
    "            else:\n",
    "                data[category][word] = 1\n",
    "\n",
    "\n",
    "def lecture():\n",
    "    \"\"\"reads the file and adds the words to the data dictionary\n",
    "    \"\"\"\n",
    "    with open(FILENAME, 'r') as f:\n",
    "        for line in f:\n",
    "            line = line.split('\\t')\n",
    "            line[1] = line[1].rstrip('\\n')\n",
    "            line[1].replace('.', ' ')\n",
    "            line[1] = line[1].split(' ', )        \n",
    "\n",
    "            if line[0] == 'spam':\n",
    "                add_words('spam', line[1])\n",
    "            else:\n",
    "                add_words('ham', line[1])\n",
    "\n",
    "lecture()\n",
    "\n",
    "print(\"Palabras en spam: \",len(data['spam']))\n",
    "print(\"Palabras en ham: \",len(data['ham']))"
   ]
  }
 ],
 "metadata": {
  "kernelspec": {
   "display_name": "Python 3",
   "language": "python",
   "name": "python3"
  },
  "language_info": {
   "codemirror_mode": {
    "name": "ipython",
    "version": 3
   },
   "file_extension": ".py",
   "mimetype": "text/x-python",
   "name": "python",
   "nbconvert_exporter": "python",
   "pygments_lexer": "ipython3",
   "version": "3.9.2"
  }
 },
 "nbformat": 4,
 "nbformat_minor": 2
}
