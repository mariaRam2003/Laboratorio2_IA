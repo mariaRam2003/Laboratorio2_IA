{
 "cells": [
  {
   "cell_type": "code",
   "execution_count": 6,
   "metadata": {},
   "outputs": [],
   "source": [
    "import numpy as np\n",
    "from sklearn.metrics import confusion_matrix, accuracy_score\n",
    "import matplotlib.pyplot as plt\n",
    "import seaborn as sns"
   ]
  },
  {
   "cell_type": "markdown",
   "metadata": {},
   "source": [
    "## Lectura y limpieza de datos"
   ]
  },
  {
   "cell_type": "code",
   "execution_count": 7,
   "metadata": {},
   "outputs": [
    {
     "name": "stdout",
     "output_type": "stream",
     "text": [
      "Palabras distintas en spam:  2793\n",
      "Palabras distintas en ham:  7031\n",
      "mensajes spam:  603\n",
      "mensajes ham:  3850\n",
      "palabras spam:  14464\n",
      "palabras ham:  54833\n"
     ]
    }
   ],
   "source": [
    "data = {\"spam\": {},\n",
    "        \"ham\": {}}\n",
    "FILENAME = 'entrenamiento_1.txt'\n",
    "ALPHA = 1 \n",
    "TRAINING = 0.8\n",
    "TESTING = 1 - TRAINING\n",
    "\n",
    "def sanitize(string : str):\n",
    "    \"\"\"Sanitizez a string, removes symbols and converts to uppercase\n",
    "\n",
    "    Args:\n",
    "        string (str): word to be sanitized\n",
    "\n",
    "    Returns:\n",
    "        str: sanitized word\n",
    "    \"\"\"\n",
    "    return string.strip('!.,;?:()-').upper()\n",
    "\n",
    "\n",
    "def add_words(category : str, words : [str]):\n",
    "    \"\"\"grabs a list of words, sanitizes them and adds them to the data dictionary\n",
    "\n",
    "    Args:\n",
    "        category (str): either 'spam' or 'ham'\n",
    "        words (str]): list of words to be added\n",
    "\n",
    "     Returns:\n",
    "        int: number of words added to the dictionary        \n",
    "    \"\"\"\n",
    "    for word in words:\n",
    "        word = sanitize(word)\n",
    "        if word:\n",
    "            if word in data[category]:\n",
    "                data[category][word] += 1\n",
    "            else:\n",
    "                data[category][word] = 1\n",
    "\n",
    "    return len(words)\n",
    "\n",
    "\n",
    "def lecture():\n",
    "    \"\"\"reads the file and adds the words to the data dictionary\n",
    "    \"\"\"\n",
    "    spam = 0\n",
    "    ham = 0    \n",
    "    spam_words = 0\n",
    "    ham_words = 0\n",
    "\n",
    "    with open(FILENAME, 'r') as f:\n",
    "        lines_to_read = int(TRAINING * sum(1 for line in f))\n",
    "        f.seek(0)\n",
    "\n",
    "        for index, line in enumerate(f):\n",
    "            line = line.split('\\t')\n",
    "            line[1] = line[1].rstrip('\\n')\n",
    "            line[1].replace('.', ' ')\n",
    "            line[1] = line[1].split(' ', )        \n",
    "\n",
    "            if line[0] == 'spam':\n",
    "                spam += 1\n",
    "                spam_words += add_words('spam', line[1])\n",
    "            else:\n",
    "                ham += 1\n",
    "                ham_words += add_words('ham', line[1])\n",
    "\n",
    "            if index >= lines_to_read:\n",
    "                break\n",
    "\n",
    "        \n",
    "    return spam, ham, spam_words, ham_words\n",
    "\n",
    "spam, ham, spam_words, ham_words = lecture()\n",
    "\n",
    "print(\"Palabras distintas en spam: \", len(data['spam']))\n",
    "print(\"Palabras distintas en ham: \", len(data['ham']))\n",
    "print(\"mensajes spam: \", spam)\n",
    "print(\"mensajes ham: \", ham)\n",
    "print(\"palabras spam: \", spam_words)\n",
    "print(\"palabras ham: \", ham_words)"
   ]
  },
  {
   "cell_type": "markdown",
   "metadata": {},
   "source": [
    "## Modelo Naive Bayes"
   ]
  },
  {
   "cell_type": "code",
   "execution_count": 8,
   "metadata": {},
   "outputs": [],
   "source": [
    "def naive_bayes(message : [str]):\n",
    "    \"\"\"calculates the probability of a message being spam or ham; the words MUST be sanitized beforehand\n",
    "\n",
    "    Args:\n",
    "        message (str): message to be evaluated\n",
    "\n",
    "    Returns:\n",
    "        float: probability of being spam\n",
    "        float: probability of being ham\n",
    "    \"\"\"\n",
    "\n",
    "    p_spam = spam / (spam + ham)\n",
    "    p_ham = ham / (spam + ham)\n",
    "\n",
    "    p_spam_prob = [0] * (len(message))\n",
    "    p_ham_prob = [0] * (len(message))   \n",
    "\n",
    "    for index, word in enumerate(message):\n",
    "        word_occurence_spam = data['spam'].get(word, 0) + ALPHA\n",
    "        word_occurence_ham = data['ham'].get(word, 0) + ALPHA\n",
    "\n",
    "        p_word_spam = word_occurence_spam / (spam_words + len(data['spam']) * ALPHA)\n",
    "        p_word_ham = word_occurence_ham / (ham_words + len(data['ham']) * ALPHA)\n",
    "\n",
    "        p_spam_prob[index] = p_word_spam \n",
    "        p_ham_prob[index] = p_word_ham\n",
    "\n",
    "    p_spam_prob.append(p_spam)\n",
    "    p_ham_prob.append(p_ham)\n",
    "\n",
    "    probability_spam = np.prod(p_spam_prob)\n",
    "    probability_ham =  np.prod(p_ham_prob)\n",
    "\n",
    "    return probability_spam, probability_ham\n"
   ]
  },
  {
   "cell_type": "markdown",
   "metadata": {},
   "source": [
    "## Testing"
   ]
  },
  {
   "cell_type": "markdown",
   "metadata": {},
   "source": []
  },
  {
   "cell_type": "code",
   "execution_count": 9,
   "metadata": {},
   "outputs": [
    {
     "name": "stdout",
     "output_type": "stream",
     "text": [
      "accuracy score:  0.9451438848920863\n"
     ]
    },
    {
     "data": {
      "image/png": "[encoded data removed]",
      "text/plain": [
       "<Figure size 640x480 with 2 Axes>"
      ]
     },
     "metadata": {},
     "output_type": "display_data"
    }
   ],
   "source": [
    "def sanitize_message(message : str):\n",
    "    \"\"\"takes the message and sanitizes it, removes symbols and converts to uppercase\n",
    "\n",
    "    Args:\n",
    "        message (str): message to be sanitized\n",
    "    \"\"\"\n",
    "    message = message.rstrip('\\n')\n",
    "    message.replace('.', ' ')\n",
    "    message = message.split(' ', )        \n",
    "\n",
    "    for index, word in enumerate(message):\n",
    "        word = word.upper()\n",
    "        message[index] = sanitize(word)\n",
    "\n",
    "    return message\n",
    "\n",
    "def read():\n",
    "    \"\"\"reads the file and calculates the probability of each message being spam or ham\n",
    "\n",
    "    Returns:\n",
    "        [string]: returns two lists, one with the predicted values and the other with the actual values\n",
    "    \"\"\"\n",
    "    with open(FILENAME, 'r') as f:\n",
    "        lines = f.readlines()\n",
    "    \n",
    "    length = int(TESTING * len(lines))\n",
    "    test_y = []\n",
    "    actual_y = []\n",
    "\n",
    "    for index, line in enumerate(reversed(lines)):\n",
    "        if index >= length:\n",
    "            break\n",
    "\n",
    "        line = line.split('\\t')\n",
    "        message = sanitize_message(line[1])\n",
    "        spam_p, ham_p = naive_bayes(message)\n",
    "\n",
    "        actual_y.append(line[0])\n",
    "        if spam_p > ham_p:\n",
    "            test_y.append('spam')\n",
    "        else:\n",
    "            test_y.append('ham')\n",
    "        \n",
    "\n",
    "    return test_y, actual_y\n",
    "\n",
    "test_y, actual_y = read()\n",
    "\n",
    "cm = confusion_matrix(actual_y,test_y)\n",
    "score = accuracy_score(actual_y,test_y)\n",
    "print(\"accuracy score: \", score)\n",
    "sns.heatmap(cm, annot=True, fmt='d', cmap='Blues', xticklabels=['Ham', 'Spam'], yticklabels=['Ham', 'Spam'])\n",
    "plt.xlabel('Predicción')\n",
    "plt.ylabel('Realidad')\n",
    "plt.title('Matriz de Confusión')\n",
    "plt.show()\n",
    "        "
   ]
  },
  {
   "cell_type": "markdown",
   "metadata": {},
   "source": [
    "## Clasificación de mensajes futuros"
   ]
  },
  {
   "cell_type": "code",
   "execution_count": 11,
   "metadata": {},
   "outputs": [
    {
     "name": "stdout",
     "output_type": "stream",
     "text": [
      "\n",
      "Bienvenido al clasificador de spam\n",
      "1. Ingresar mensaje\n",
      "2. Salir\n",
      "\n"
     ]
    },
    {
     "name": "stdin",
     "output_type": "stream",
     "text": [
      "Ingrese una opción:  2\n"
     ]
    }
   ],
   "source": [
    "menu_str = \"\"\"\n",
    "Bienvenido al clasificador de spam\n",
    "1. Ingresar mensaje\n",
    "2. Salir\n",
    "\"\"\"\n",
    "\n",
    "def classify_message():\n",
    "    \"\"\"Evaluates a message and prints the result\n",
    "    \"\"\"\n",
    "    message = input(\"Ingrese el mensaje a clasificar: \")\n",
    "    message = sanitize_message(message)\n",
    "    spam_p, ham_p = naive_bayes(message)\n",
    "\n",
    "    print(\"Probabilidad de ser spam: \", spam_p)\n",
    "    print(\"Probabilidad de ser ham: \", ham_p)\n",
    "    print(\"Respuesta del modelo: \")\n",
    "\n",
    "    if spam_p > ham_p:\n",
    "        print(\"\\tEl mensaje es spam\")\n",
    "    else:\n",
    "        print(\"\\tEl mensaje no es spam\")\n",
    "\n",
    "\n",
    "def run():\n",
    "    \"\"\" Runs the program for the user to interact with\n",
    "    \"\"\"\n",
    "    is_running = True\n",
    "\n",
    "    while is_running:\n",
    "        print(menu_str)\n",
    "        option = input(\"Ingrese una opción: \")\n",
    "\n",
    "        if option == '1':\n",
    "            classify_message()\n",
    "        elif option == '2':\n",
    "            is_running = False\n",
    "\n",
    "run()\n",
    "        "
   ]
  },
  {
   "cell_type": "markdown",
   "metadata": {},
   "source": [
    "## Task 2.4 - Comparación con Librerías"
   ]
  },
  {
   "cell_type": "code",
   "execution_count": 12,
   "metadata": {},
   "outputs": [],
   "source": [
    "import numpy as np\n",
    "from sklearn.model_selection import train_test_split\n",
    "from sklearn.feature_extraction.text import CountVectorizer\n",
    "from sklearn.naive_bayes import MultinomialNB\n",
    "from sklearn.metrics import confusion_matrix, accuracy_score\n",
    "import matplotlib.pyplot as plt\n",
    "import seaborn as sns"
   ]
  },
  {
   "cell_type": "code",
   "execution_count": 13,
   "metadata": {},
   "outputs": [
    {
     "name": "stdout",
     "output_type": "stream",
     "text": [
      "Métricas de Desempeño en Training:\n",
      "Accuracy Score: 0.993486073674753\n"
     ]
    },
    {
     "data": {
      "image/png": "[encoded data removed]",
      "text/plain": [
       "<Figure size 800x600 with 2 Axes>"
      ]
     },
     "metadata": {},
     "output_type": "display_data"
    },
    {
     "name": "stdout",
     "output_type": "stream",
     "text": [
      "\n",
      "Métricas de Desempeño en Testing:\n",
      "Accuracy Score: 0.9865229110512129\n"
     ]
    },
    {
     "data": {
      "image/png": "[encoded data removed]",
      "text/plain": [
       "<Figure size 800x600 with 2 Axes>"
      ]
     },
     "metadata": {},
     "output_type": "display_data"
    },
    {
     "name": "stdout",
     "output_type": "stream",
     "text": [
      "\n",
      "Comparación:\n",
      "La implementación de sklearn tiene un accuracy score de 0.9865229110512129\n",
      "La implementación propia tiene un accuracy score de 0.9451438848920863\n"
     ]
    }
   ],
   "source": [
    "def sanitize_message(message):\n",
    "    message = message.rstrip('\\n')\n",
    "    message.replace('.', ' ')\n",
    "    message = message.split(' ', )        \n",
    "\n",
    "    for index, word in enumerate(message):\n",
    "        word = word.upper()\n",
    "        message[index] = sanitize(word)\n",
    "\n",
    "    return message\n",
    "\n",
    "with open(\"entrenamiento_1.txt\", 'r') as f:\n",
    "    lines = f.readlines()\n",
    "\n",
    "X = [line.split('\\t')[1] for line in lines]\n",
    "y = [line.split('\\t')[0] for line in lines]\n",
    "\n",
    "vectorizer = CountVectorizer()\n",
    "X_vectorized = vectorizer.fit_transform(X)\n",
    "\n",
    "X_train, X_test, y_train, y_test = train_test_split(X_vectorized, y, test_size=0.2, random_state=42)\n",
    "\n",
    "model_sklearn = MultinomialNB()\n",
    "model_sklearn.fit(X_train, y_train)\n",
    "\n",
    "y_train_pred = model_sklearn.predict(X_train)\n",
    "y_test_pred = model_sklearn.predict(X_test)\n",
    "\n",
    "# Métricas de desempeño en training\n",
    "cm_train = confusion_matrix(y_train, y_train_pred)\n",
    "score_train = accuracy_score(y_train, y_train_pred)\n",
    "print(\"Métricas de Desempeño en Training:\")\n",
    "print(\"Accuracy Score:\", score_train)\n",
    "\n",
    "# Visualización de la matriz de confusión en training\n",
    "plt.figure(figsize=(8, 6))\n",
    "sns.heatmap(cm_train, annot=True, fmt='d', cmap='Blues', xticklabels=['Ham', 'Spam'], yticklabels=['Ham', 'Spam'])\n",
    "plt.xlabel('Predicción')\n",
    "plt.ylabel('Realidad')\n",
    "plt.title('Matriz de Confusión en Training')\n",
    "plt.show()\n",
    "\n",
    "# Métricas de desempeño en testing\n",
    "cm_test = confusion_matrix(y_test, y_test_pred)\n",
    "score_test = accuracy_score(y_test, y_test_pred)\n",
    "print(\"\\nMétricas de Desempeño en Testing:\")\n",
    "print(\"Accuracy Score:\", score_test)\n",
    "\n",
    "# Visualización de la matriz de confusión en testing\n",
    "plt.figure(figsize=(8, 6))\n",
    "sns.heatmap(cm_test, annot=True, fmt='d', cmap='Blues', xticklabels=['Ham', 'Spam'], yticklabels=['Ham', 'Spam'])\n",
    "plt.xlabel('Predicción')\n",
    "plt.ylabel('Realidad')\n",
    "plt.title('Matriz de Confusión en Testing')\n",
    "plt.show()\n",
    "\n",
    "# Comparación con la implementación propia\n",
    "print(\"\\nComparación:\")\n",
    "print(\"La implementación de sklearn tiene un accuracy score de\", score_test)\n",
    "print(\"La implementación propia tiene un accuracy score de\", score)"
   ]
  },
  {
   "cell_type": "markdown",
   "metadata": {},
   "source": [
    "#### Comentarios"
   ]
  },
  {
   "cell_type": "markdown",
   "metadata": {},
   "source": [
    "- ##### ¿Cuál implementación lo hizo mejor?\n",
    "    La implementación de sklearn.naive_bayes.MultinomialNB fue mejor en términos de accuracy score."
   ]
  },
  {
   "cell_type": "markdown",
   "metadata": {},
   "source": [
    "- ##### ¿Por qué cree que se debe esta diferencia?\n",
    "    sklearn.naive_bayes.MultinomialNB puede haber ajustado automáticamente algunos hiperparámetros durante el proceso de entrenamiento, mientras que en la implementación propia los hiperparámetros pueden no haber sido óptimos."
   ]
  }
 ],
 "metadata": {
  "kernelspec": {
   "display_name": "Python 3 (ipykernel)",
   "language": "python",
   "name": "python3"
  },
  "language_info": {
   "codemirror_mode": {
    "name": "ipython",
    "version": 3
   },
   "file_extension": ".py",
   "mimetype": "text/x-python",
   "name": "python",
   "nbconvert_exporter": "python",
   "pygments_lexer": "ipython3",
   "version": "3.12.1"
  }
 },
 "nbformat": 4,
 "nbformat_minor": 4
}
